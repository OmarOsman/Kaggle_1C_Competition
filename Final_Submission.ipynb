{
  "cells": [
    {
      "metadata": {
        "_uuid": "a862aea8e2dd8858be42693a420e3c9d57b88ec0"
      },
      "cell_type": "markdown",
      "source": "# **Final project: the \"1C\" competition**\nThis challenge serves as final project for the \"How to win a data science competition\" Coursera course.\n\nIn this competition you will work with a challenging time-series dataset consisting of daily sales data, kindly provided by one of the largest Russian software firms - 1C Company.\n\nWe are asking you to predict total sales for every product and store in the next month. By solving this competition you will be able to apply and enhance your data science skills.\n\n## File descriptions\n\n\n\n\n*  sales_train.csv - the training set. Daily historical data from January 2013 to October 2015.\n\n*   test.csv - the test set. You need to forecast the sales for these shops and products for November 2015.\n\n*   sample_submission.csv - a sample submission file in the correct format.\nitems.csv - supplemental information about the items/products.\n\n*  item_categories.csv - supplemental information about the items categories.\n\n\n*   shops.csv- supplemental information about the shops.\n\n\n\n\n## Data fields\n\n\n*   ID - an Id that represents a (Shop, Item) tuple within the test set\n* shop_id - unique identifier of a shop\n* item_id - unique identifier of a product\n* item_category_id - unique identifier of item category\n* item_cnt_day - number of products sold. You are predicting a monthly amount of this measure\n* item_price - current price of an item\n* date - date in format dd/mm/yyyy\n* date_block_num - a consecutive month number, used for convenience. January 2013 is 0, February 2013 is 1,..., October 2015 is 33\n* item_name - name of item\n* shop_name - name of shop\n* item_category_name - name of item category"
    },
    {
      "metadata": {
        "_uuid": "689a32968dfd13b04b3c94eae407a28ddd6d089b"
      },
      "cell_type": "markdown",
      "source": "# EDA"
    },
    {
      "metadata": {
        "_uuid": "8f2839f25d086af736a60e9eeb907d3b93b6e0e5",
        "_cell_guid": "b1076dfc-b9ad-4769-8c92-a6c4dae69d19",
        "trusted": true
      },
      "cell_type": "code",
      "source": "import pandas as pd\nimport numpy as np\nimport pickle\nimport os\nimport seaborn as sns\nimport string\nimport time\nimport matplotlib.pyplot as plt\nfrom sklearn import model_selection\nfrom sklearn.preprocessing import MinMaxScaler\nfrom sklearn.preprocessing import LabelEncoder\nfrom xgboost import XGBRegressor \nimport gc\n\npd.set_option('display.max_rows', 600)\npd.set_option('display.max_columns', 50)\n\nimport lightgbm as lgb\nfrom sklearn.linear_model import LinearRegression\nfrom sklearn.metrics import r2_score\nfrom tqdm import tqdm_notebook\n\nfrom itertools import product\n%matplotlib inline",
      "execution_count": 1,
      "outputs": []
    },
    {
      "metadata": {
        "_cell_guid": "79c7e3d0-c299-4dcb-8224-4455121ee9b0",
        "_uuid": "d629ff2d2480ee46fbb7e2d37f6b5fab8052498a",
        "trusted": true
      },
      "cell_type": "code",
      "source": "sales = pd.read_csv('../input/sales_train.csv')\nitems = pd.read_csv('../input/items.csv')\nshops = pd.read_csv('../input/shops.csv')\nitem_cats = pd.read_csv('../input/item_categories.csv')\ntest  = pd.read_csv('../input/test.csv').set_index('ID')",
      "execution_count": 2,
      "outputs": []
    },
    {
      "metadata": {
        "trusted": true,
        "_uuid": "82726bae6fd9c79dc516d14ecd17551f653b3e4f"
      },
      "cell_type": "code",
      "source": "print(\"----------Top-5- Record----------\")\nprint(sales.head(5))\nprint(\"-----------Information-----------\")\nprint(sales.info())\nprint(\"-----------Data Types-----------\")\nprint(sales.dtypes)\nprint(\"----------Missing value-----------\")\nprint(sales.isnull().sum())\nprint(\"----------Null value-----------\")\nprint(sales.isna().sum())\nprint(\"----------Shape of Data----------\")\nprint(sales.shape)",
      "execution_count": 3,
      "outputs": [
        {
          "output_type": "stream",
          "text": "----------Top-5- Record----------\n         date  date_block_num  shop_id  item_id  item_price  item_cnt_day\n0  02.01.2013               0       59    22154      999.00           1.0\n1  03.01.2013               0       25     2552      899.00           1.0\n2  05.01.2013               0       25     2552      899.00          -1.0\n3  06.01.2013               0       25     2554     1709.05           1.0\n4  15.01.2013               0       25     2555     1099.00           1.0\n-----------Information-----------\n<class 'pandas.core.frame.DataFrame'>\nRangeIndex: 2935849 entries, 0 to 2935848\nData columns (total 6 columns):\ndate              object\ndate_block_num    int64\nshop_id           int64\nitem_id           int64\nitem_price        float64\nitem_cnt_day      float64\ndtypes: float64(2), int64(3), object(1)\nmemory usage: 134.4+ MB\nNone\n-----------Data Types-----------\ndate               object\ndate_block_num      int64\nshop_id             int64\nitem_id             int64\nitem_price        float64\nitem_cnt_day      float64\ndtype: object\n----------Missing value-----------\ndate              0\ndate_block_num    0\nshop_id           0\nitem_id           0\nitem_price        0\nitem_cnt_day      0\ndtype: int64\n----------Null value-----------\ndate              0\ndate_block_num    0\nshop_id           0\nitem_id           0\nitem_price        0\nitem_cnt_day      0\ndtype: int64\n----------Shape of Data----------\n(2935849, 6)\n",
          "name": "stdout"
        }
      ]
    },
    {
      "metadata": {
        "trusted": true,
        "_uuid": "636d705ae8b3f24aca5b028d326854dedde77993"
      },
      "cell_type": "markdown",
      "source": "check duplicated rows "
    },
    {
      "metadata": {
        "trusted": true,
        "_uuid": "1855964d704c9e8834b4ad4a4f63b8648e8e1541"
      },
      "cell_type": "code",
      "source": "print('Number of duplicates:', len(sales[sales.duplicated()]))",
      "execution_count": 4,
      "outputs": [
        {
          "output_type": "stream",
          "text": "Number of duplicates: 6\n",
          "name": "stdout"
        }
      ]
    },
    {
      "metadata": {
        "_uuid": "b364357ace165d2a84af2925d6f20a158a32140c"
      },
      "cell_type": "markdown",
      "source": "not worthy of investigation  as the number of rows is 6 "
    },
    {
      "metadata": {
        "trusted": true,
        "_uuid": "1339cbd164070ee7992af6e93d43cf96b26ebcff"
      },
      "cell_type": "code",
      "source": "sales[\"revenue\"] = sales[\"item_price\"] * sales[\"item_cnt_day\"]",
      "execution_count": 5,
      "outputs": []
    },
    {
      "metadata": {
        "trusted": true,
        "_uuid": "b2eca612a57254e36bb922c4fe0d824abf58d1fe"
      },
      "cell_type": "code",
      "source": "#many 1c products are seasonal and probably release date depended.as expected \nsales.groupby(\"date_block_num\")[\"revenue\"].sum().plot()",
      "execution_count": 6,
      "outputs": [
        {
          "output_type": "execute_result",
          "execution_count": 6,
          "data": {
            "text/plain": "<matplotlib.axes._subplots.AxesSubplot at 0x7f8bbd131e10>"
          },
          "metadata": {}
        },
        {
          "output_type": "display_data",
          "data": {
            "text/plain": "<Figure size 432x288 with 1 Axes>",
            "image/png": "[encoded data removed]"
          },
          "metadata": {}
        }
      ]
    },
    {
      "metadata": {
        "_uuid": "cea36915f1f4d49c5bc42904dfc5cbb18607a8d0"
      },
      "cell_type": "markdown",
      "source": "**Outliers by price and sales volume**"
    },
    {
      "metadata": {
        "trusted": true,
        "_uuid": "385a7ed6224b210d15ccf844fe44ec5a9ca2e74a"
      },
      "cell_type": "code",
      "source": "plt.figure(figsize=(10,4))\nplt.xlim(-100, 3000)\nsns.boxplot(x=sales['item_cnt_day'])\nprint('Sale volume outliers:',sales['item_id'][sales['item_cnt_day']>500].unique())\n\nplt.figure(figsize=(10,4))\nplt.xlim(sales['item_price'].min(), sales['item_price'].max())\nsns.boxplot(x=sales['item_price'])\nprint('Item price outliers:',sales['item_id'][sales['item_price']>50000].unique())",
      "execution_count": 7,
      "outputs": [
        {
          "output_type": "stream",
          "text": "Sale volume outliers: [ 8057 20949  9242 19437  3731 11373  9249  9248]\nItem price outliers: [11365  6066 13199]\n",
          "name": "stdout"
        },
        {
          "output_type": "display_data",
          "data": {
            "text/plain": "<Figure size 720x288 with 1 Axes>",
            "image/png": "[encoded data removed]"
          },
          "metadata": {}
        },
        {
          "output_type": "display_data",
          "data": {
            "text/plain": "<Figure size 720x288 with 1 Axes>",
            "image/png": "[encoded data removed]"
          },
          "metadata": {}
        }
      ]
    },
    {
      "metadata": {
        "trusted": true,
        "_uuid": "b5f9a40aaecf56c2575ae3aa5917e8eb61ee4e0b"
      },
      "cell_type": "code",
      "source": "sales = sales[(sales.item_price<90000) & (sales.item_price > 0)]\nsales = sales[sales.item_cnt_day<900]",
      "execution_count": 8,
      "outputs": []
    },
    {
      "metadata": {
        "_uuid": "b3158f688d8a0b378a16d200bca78314d12d7773"
      },
      "cell_type": "markdown",
      "source": "# Preprocessing and Feature Engineering"
    },
    {
      "metadata": {
        "trusted": true,
        "_uuid": "84994840c2cd73e9e186bac9e88de9ae255940b4"
      },
      "cell_type": "code",
      "source": "# Translate the item category name and find meta category, subtype\nsymbols=(u\"абвгдеёжзийклмнопрстуфхцчшщъыьэюяАБВГДЕЁЖЗИЙКЛМНОПРСТУФХЦЧШЩЪЫЬЭЮЯ\", u\"abvgdeejzijklmnoprstufhzcss_y_euaABVGDEEJZIJKLMNOPRSTUFHZCSS_Y_EUA\")\nenglish = {ord(a):ord(b) for a, b in zip(*symbols)}\n\nitem_cats['items_english'] = item_cats['item_category_name'].apply(lambda x: x.translate(english))\nitem_cats['meta_category'] = item_cats['items_english'].apply(lambda x: x.split('-')[0])\nitem_cats['subtype'] = item_cats['items_english'].apply(lambda x: x.split('-')) \\\n                                                             .map(lambda x:x[1].strip() if len(x)>1 else x[0].strip())\nitem_cats.head()",
      "execution_count": 9,
      "outputs": [
        {
          "output_type": "execute_result",
          "execution_count": 9,
          "data": {
            "text/plain": "        item_category_name  item_category_id            items_english  \\\n0  PC - Гарнитуры/Наушники                 0  PC - Garnitury/Nausniki   \n1         Аксессуары - PS2                 1         Aksessuary - PS2   \n2         Аксессуары - PS3                 2         Aksessuary - PS3   \n3         Аксессуары - PS4                 3         Aksessuary - PS4   \n4         Аксессуары - PSP                 4         Aksessuary - PSP   \n\n  meta_category             subtype  \n0           PC   Garnitury/Nausniki  \n1   Aksessuary                  PS2  \n2   Aksessuary                  PS3  \n3   Aksessuary                  PS4  \n4   Aksessuary                  PSP  ",
            "text/html": "<div>\n<style scoped>\n    .dataframe tbody tr th:only-of-type {\n        vertical-align: middle;\n    }\n\n    .dataframe tbody tr th {\n        vertical-align: top;\n    }\n\n    .dataframe thead th {\n        text-align: right;\n    }\n</style>\n<table border=\"1\" class=\"dataframe\">\n  <thead>\n    <tr style=\"text-align: right;\">\n      <th></th>\n      <th>item_category_name</th>\n      <th>item_category_id</th>\n      <th>items_english</th>\n      <th>meta_category</th>\n      <th>subtype</th>\n    </tr>\n  </thead>\n  <tbody>\n    <tr>\n      <th>0</th>\n      <td>PC - Гарнитуры/Наушники</td>\n      <td>0</td>\n      <td>PC - Garnitury/Nausniki</td>\n      <td>PC</td>\n      <td>Garnitury/Nausniki</td>\n    </tr>\n    <tr>\n      <th>1</th>\n      <td>Аксессуары - PS2</td>\n      <td>1</td>\n      <td>Aksessuary - PS2</td>\n      <td>Aksessuary</td>\n      <td>PS2</td>\n    </tr>\n    <tr>\n      <th>2</th>\n      <td>Аксессуары - PS3</td>\n      <td>2</td>\n      <td>Aksessuary - PS3</td>\n      <td>Aksessuary</td>\n      <td>PS3</td>\n    </tr>\n    <tr>\n      <th>3</th>\n      <td>Аксессуары - PS4</td>\n      <td>3</td>\n      <td>Aksessuary - PS4</td>\n      <td>Aksessuary</td>\n      <td>PS4</td>\n    </tr>\n    <tr>\n      <th>4</th>\n      <td>Аксессуары - PSP</td>\n      <td>4</td>\n      <td>Aksessuary - PSP</td>\n      <td>Aksessuary</td>\n      <td>PSP</td>\n    </tr>\n  </tbody>\n</table>\n</div>"
          },
          "metadata": {}
        }
      ]
    },
    {
      "metadata": {
        "trusted": true,
        "_uuid": "9f5d67625764154164e9635d13e237b2368225b4"
      },
      "cell_type": "code",
      "source": "item_cats['meta_category'].value_counts()",
      "execution_count": 10,
      "outputs": [
        {
          "output_type": "execute_result",
          "execution_count": 10,
          "data": {
            "text/plain": "Knigi                                13\nPodarki                              12\nIgry                                  8\nIgrovye konsoli                       8\nAksessuary                            7\nMuzyka                                6\nProgrammy                             6\nKino                                  5\nIgry PC                               4\nKarty oplaty                          4\nCistye nositeli (stucnye)             1\nKarty oplaty (Kino, Muzyka, Igry)     1\nDostavka tovara                       1\nIgry Android                          1\nCistye nositeli (spil_)               1\nBilety (Zifra)                        1\nSlujebnye                             1\nIgry MAC                              1\nSlujebnye                             1\nPC                                    1\nElementy pitania                      1\nName: meta_category, dtype: int64"
          },
          "metadata": {}
        }
      ]
    },
    {
      "metadata": {
        "trusted": true,
        "_uuid": "e59b9d27dd22b06322f9343b86789b6e227be835"
      },
      "cell_type": "code",
      "source": "item_cats['subtype'].value_counts()",
      "execution_count": 11,
      "outputs": [
        {
          "output_type": "execute_result",
          "execution_count": 11,
          "data": {
            "text/plain": "Zifra                                4\nPSVita                               3\nPSP                                  3\nPS4                                  3\nXBOX ONE                             3\nPS3                                  3\nBlu                                  3\nPS2                                  3\nXBOX 360                             3\nHudojestvennaa literatura            1\nCD lokal_nogo proizvodstva           1\nGarnitury/Nausniki                   1\nNastol_nye igry (kompaktnye)         1\nKomp_uternaa literatura              1\nArtbuki, enziklopedii                1\nGadjety, roboty, sport               1\nMuzykal_noe video                    1\nSuveniry (v navesku)                 1\nMagkie igruski                       1\nAudioknigi 1S                        1\nPoznavatel_naa literatura            1\nLive! (Zifra)                        1\nStandartnye izdania                  1\nKollekzionnye izdania                1\nAksessuary dla igr                   1\nBiznes literatura                    1\nKarty oplaty (Kino, Muzyka, Igry)    1\nVinil                                1\nSertifikaty, uslugi                  1\nSlujebnye                            1\nElementy pitania                     1\nCistye nositeli (stucnye)            1\nObucausie                            1\nOtkrytki, naklejki                   1\nOtkrytki                             1\nDVD                                  1\nBilety                               1\nSuveniry                             1\nPodarocnye izdania                   1\nNastol_nye igry                      1\nCistye nositeli (spil_)              1\nProcie                               1\nMetodiceskie materialy 1S            1\nObucausie (Zifra)                    1\nRazvitie                             1\nDopolnitel_nye izdania               1\nDla doma i ofisa                     1\nDostavka tovara                      1\nWindows (Zifra)                      1\nMP3                                  1\nSumki, Al_bomy, Kovriki d/mysi       1\nMAC (Zifra)                          1\nFigurki                              1\nKomiksy, manga                       1\nAudioknigi (Zifra)                   1\nBilety (Zifra)                       1\nCD firmennogo proizvodstva           1\n1S:Predpriatie 8                     1\nKollekzionnoe                        1\nPSN                                  1\nLive!                                1\nPutevoditeli                         1\nAtributika                           1\nDla doma i ofisa (Zifra)             1\nAudioknigi                           1\nName: subtype, dtype: int64"
          },
          "metadata": {}
        }
      ]
    },
    {
      "metadata": {
        "trusted": true,
        "_uuid": "e07c642f9b03078bc781893e92c3bdda658ca218"
      },
      "cell_type": "code",
      "source": "# Label encoding\nlabelencoder = LabelEncoder()\nitem_cats[\"meta_category_code\"] = labelencoder.fit_transform(item_cats[\"meta_category\"])\nitem_cats[\"subtype_code\"] = labelencoder.fit_transform(item_cats[\"subtype\"])\nitem_cats = item_cats.drop([\"items_english\", \"meta_category\", \"subtype\"], axis=1)",
      "execution_count": 12,
      "outputs": []
    },
    {
      "metadata": {
        "trusted": true,
        "_uuid": "0f606737e12ebbb3087c25d8de49e82f0fcba2ab"
      },
      "cell_type": "code",
      "source": "item_cats.head()\n",
      "execution_count": 13,
      "outputs": [
        {
          "output_type": "execute_result",
          "execution_count": 13,
          "data": {
            "text/plain": "        item_category_name  item_category_id  meta_category_code  subtype_code\n0  PC - Гарнитуры/Наушники                 0                  16            23\n1         Аксессуары - PS2                 1                   0            43\n2         Аксессуары - PS3                 2                   0            44\n3         Аксессуары - PS4                 3                   0            45\n4         Аксессуары - PSP                 4                   0            47",
            "text/html": "<div>\n<style scoped>\n    .dataframe tbody tr th:only-of-type {\n        vertical-align: middle;\n    }\n\n    .dataframe tbody tr th {\n        vertical-align: top;\n    }\n\n    .dataframe thead th {\n        text-align: right;\n    }\n</style>\n<table border=\"1\" class=\"dataframe\">\n  <thead>\n    <tr style=\"text-align: right;\">\n      <th></th>\n      <th>item_category_name</th>\n      <th>item_category_id</th>\n      <th>meta_category_code</th>\n      <th>subtype_code</th>\n    </tr>\n  </thead>\n  <tbody>\n    <tr>\n      <th>0</th>\n      <td>PC - Гарнитуры/Наушники</td>\n      <td>0</td>\n      <td>16</td>\n      <td>23</td>\n    </tr>\n    <tr>\n      <th>1</th>\n      <td>Аксессуары - PS2</td>\n      <td>1</td>\n      <td>0</td>\n      <td>43</td>\n    </tr>\n    <tr>\n      <th>2</th>\n      <td>Аксессуары - PS3</td>\n      <td>2</td>\n      <td>0</td>\n      <td>44</td>\n    </tr>\n    <tr>\n      <th>3</th>\n      <td>Аксессуары - PS4</td>\n      <td>3</td>\n      <td>0</td>\n      <td>45</td>\n    </tr>\n    <tr>\n      <th>4</th>\n      <td>Аксессуары - PSP</td>\n      <td>4</td>\n      <td>0</td>\n      <td>47</td>\n    </tr>\n  </tbody>\n</table>\n</div>"
          },
          "metadata": {}
        }
      ]
    },
    {
      "metadata": {
        "trusted": true,
        "_uuid": "45a35b47697eb1b6b48c3fe8280cad9cbb20eb50"
      },
      "cell_type": "code",
      "source": "# Translate the shop name and find towns\nshops[\"shops_english\"] = shops[\"shop_name\"].apply(lambda x: x.translate(english))\nshops[\"town\"] = shops[\"shops_english\"].apply(lambda x: x.split()[0])\nshops.head()",
      "execution_count": 14,
      "outputs": [
        {
          "output_type": "execute_result",
          "execution_count": 14,
          "data": {
            "text/plain": "                        shop_name  shop_id                   shops_english  \\\n0   !Якутск Орджоникидзе, 56 фран        0   !Akutsk Ordjonikidze, 56 fran   \n1   !Якутск ТЦ \"Центральный\" фран        1   !Akutsk TZ \"Zentral_nyj\" fran   \n2                Адыгея ТЦ \"Мега\"        2                Adygea TZ \"Mega\"   \n3  Балашиха ТРК \"Октябрь-Киномир\"        3  Balasiha TRK \"Oktabr_-Kinomir\"   \n4        Волжский ТЦ \"Волга Молл\"        4        Voljskij TZ \"Volga Moll\"   \n\n       town  \n0   !Akutsk  \n1   !Akutsk  \n2    Adygea  \n3  Balasiha  \n4  Voljskij  ",
            "text/html": "<div>\n<style scoped>\n    .dataframe tbody tr th:only-of-type {\n        vertical-align: middle;\n    }\n\n    .dataframe tbody tr th {\n        vertical-align: top;\n    }\n\n    .dataframe thead th {\n        text-align: right;\n    }\n</style>\n<table border=\"1\" class=\"dataframe\">\n  <thead>\n    <tr style=\"text-align: right;\">\n      <th></th>\n      <th>shop_name</th>\n      <th>shop_id</th>\n      <th>shops_english</th>\n      <th>town</th>\n    </tr>\n  </thead>\n  <tbody>\n    <tr>\n      <th>0</th>\n      <td>!Якутск Орджоникидзе, 56 фран</td>\n      <td>0</td>\n      <td>!Akutsk Ordjonikidze, 56 fran</td>\n      <td>!Akutsk</td>\n    </tr>\n    <tr>\n      <th>1</th>\n      <td>!Якутск ТЦ \"Центральный\" фран</td>\n      <td>1</td>\n      <td>!Akutsk TZ \"Zentral_nyj\" fran</td>\n      <td>!Akutsk</td>\n    </tr>\n    <tr>\n      <th>2</th>\n      <td>Адыгея ТЦ \"Мега\"</td>\n      <td>2</td>\n      <td>Adygea TZ \"Mega\"</td>\n      <td>Adygea</td>\n    </tr>\n    <tr>\n      <th>3</th>\n      <td>Балашиха ТРК \"Октябрь-Киномир\"</td>\n      <td>3</td>\n      <td>Balasiha TRK \"Oktabr_-Kinomir\"</td>\n      <td>Balasiha</td>\n    </tr>\n    <tr>\n      <th>4</th>\n      <td>Волжский ТЦ \"Волга Молл\"</td>\n      <td>4</td>\n      <td>Voljskij TZ \"Volga Moll\"</td>\n      <td>Voljskij</td>\n    </tr>\n  </tbody>\n</table>\n</div>"
          },
          "metadata": {}
        }
      ]
    },
    {
      "metadata": {
        "trusted": true,
        "_uuid": "05a7ebf0c0edcc5cb2cecf6eb391c074c593eb30"
      },
      "cell_type": "code",
      "source": "shops['town_cleaned'] = shops['town'].str.replace(r'[^\\w\\s]+', '')",
      "execution_count": 15,
      "outputs": []
    },
    {
      "metadata": {
        "trusted": true,
        "_uuid": "5adb500a248c74438be10dbbffdd23eb85e37e56"
      },
      "cell_type": "code",
      "source": "shops['town_cleaned'].unique()",
      "execution_count": 16,
      "outputs": [
        {
          "output_type": "execute_result",
          "execution_count": 16,
          "data": {
            "text/plain": "array(['Akutsk', 'Adygea', 'Balasiha', 'Voljskij', 'Vologda', 'Voronej',\n       'Vyezdnaa', 'Jukovskij', 'Internetmagazin', 'Kazan_', 'Kaluga',\n       'Kolomna', 'Krasnoarsk', 'Kursk', 'Moskva', 'Mytisi', 'NNovgorod',\n       'Novosibirsk', 'Omsk', 'RostovNaDonu', 'SPb', 'Samara', 'Sergiev',\n       'Surgut', 'Tomsk', 'Tumen_', 'Ufa', 'Himki', 'Zifrovoj', 'Cehov',\n       'Aroslavl_'], dtype=object)"
          },
          "metadata": {}
        }
      ]
    },
    {
      "metadata": {
        "trusted": true,
        "_uuid": "8b3e514bdc9351657dc838f5cac62e86d157bc75"
      },
      "cell_type": "code",
      "source": "shop_groups = shops['shops_english'].groupby(shops['town_cleaned'])",
      "execution_count": 17,
      "outputs": []
    },
    {
      "metadata": {
        "trusted": true,
        "_uuid": "5c0f3c5a1fa74aab165b5e7e15d101fa187ac88c"
      },
      "cell_type": "code",
      "source": "for i,gr in shop_groups : print(i,\"\\n\" ,gr ,\"\\n\")",
      "execution_count": 18,
      "outputs": [
        {
          "output_type": "stream",
          "text": "Adygea \n 2    Adygea TZ \"Mega\"\nName: shops_english, dtype: object \n\nAkutsk \n 0     !Akutsk Ordjonikidze, 56 fran\n1     !Akutsk TZ \"Zentral_nyj\" fran\n57          Akutsk Ordjonikidze, 56\n58          Akutsk TZ \"Zentral_nyj\"\nName: shops_english, dtype: object \n\nAroslavl_ \n 59    Aroslavl_ TZ \"Al_tair\"\nName: shops_english, dtype: object \n\nBalasiha \n 3    Balasiha TRK \"Oktabr_-Kinomir\"\nName: shops_english, dtype: object \n\nCehov \n 56    Cehov TRZ \"Karnaval\"\nName: shops_english, dtype: object \n\nHimki \n 54    Himki TZ \"Mega\"\nName: shops_english, dtype: object \n\nInternetmagazin \n 12    Internet-magazin CS\nName: shops_english, dtype: object \n\nJukovskij \n 10    Jukovskij ul. Ckalova 39m?\n11    Jukovskij ul. Ckalova 39m²\nName: shops_english, dtype: object \n\nKaluga \n 15    Kaluga TRZ \"XXI vek\"\nName: shops_english, dtype: object \n\nKazan_ \n 13        Kazan_ TZ \"Behetle\"\n14    Kazan_ TZ \"ParkHaus\" II\nName: shops_english, dtype: object \n\nKolomna \n 16    Kolomna TZ \"Rio\"\nName: shops_english, dtype: object \n\nKrasnoarsk \n 17    Krasnoarsk TZ \"Vzletka Plaza\"\n18             Krasnoarsk TZ \"Iun_\"\nName: shops_english, dtype: object \n\nKursk \n 19    Kursk TZ \"Puskinskij\"\nName: shops_english, dtype: object \n\nMoskva \n 20                   Moskva \"Rasprodaja\"\n21                Moskva MTRZ \"Afi Moll\"\n22                    Moskva Magazin S21\n23      Moskva TK \"Budenovskij\" (pav.A2)\n24      Moskva TK \"Budenovskij\" (pav.K7)\n25                   Moskva TRK \"Atrium\"\n26           Moskva TZ \"Areal\" (Belaevo)\n27        Moskva TZ \"MEGA Belaa Daca II\"\n28       Moskva TZ \"MEGA Teplyj Stan\" II\n29    Moskva TZ \"Novyj vek\" (Novokosino)\n30                Moskva TZ \"Perlovskij\"\n31               Moskva TZ \"Semenovskij\"\n32            Moskva TZ \"Serebranyj Dom\"\nName: shops_english, dtype: object \n\nMytisi \n 33    Mytisi TRK \"XL-3\"\nName: shops_english, dtype: object \n\nNNovgorod \n 34           N.Novgorod TRZ \"RIO\"\n35    N.Novgorod TRZ \"Fantastika\"\nName: shops_english, dtype: object \n\nNovosibirsk \n 36    Novosibirsk TRZ \"Galerea Novosibirsk\"\n37                    Novosibirsk TZ \"Mega\"\nName: shops_english, dtype: object \n\nOmsk \n 38    Omsk TZ \"Mega\"\nName: shops_english, dtype: object \n\nRostovNaDonu \n 39              RostovNaDonu TRK \"Megazentr Gorizont\"\n40    RostovNaDonu TRK \"Megazentr Gorizont\" Ostrovnoj\n41                             RostovNaDonu TZ \"Mega\"\nName: shops_english, dtype: object \n\nSPb \n 42    SPb TK \"Nevskij Zentr\"\n43           SPb TK \"Sennaa\"\nName: shops_english, dtype: object \n\nSamara \n 44     Samara TZ \"Melodia\"\n45    Samara TZ \"ParkHaus\"\nName: shops_english, dtype: object \n\nSergiev \n 46    Sergiev Posad TZ \"7A\"\nName: shops_english, dtype: object \n\nSurgut \n 47    Surgut TRZ \"Siti Moll\"\nName: shops_english, dtype: object \n\nTomsk \n 48    Tomsk TRZ \"Izumrudnyj Gorod\"\nName: shops_english, dtype: object \n\nTumen_ \n 49        Tumen_ TRZ \"Kristall\"\n50           Tumen_ TZ \"Gudvin\"\n51    Tumen_ TZ \"Zelenyj Bereg\"\nName: shops_english, dtype: object \n\nUfa \n 52    Ufa TK \"Zentral_nyj\"\n53        Ufa TZ \"Sem_a\" 2\nName: shops_english, dtype: object \n\nVoljskij \n 4    Voljskij TZ \"Volga Moll\"\nName: shops_english, dtype: object \n\nVologda \n 5    Vologda TRZ \"Marmelad\"\nName: shops_english, dtype: object \n\nVoronej \n 6      Voronej (Plehanovskaa, 13)\n7          Voronej TRZ \"Maksimir\"\n8    Voronej TRZ Siti-Park \"Grad\"\nName: shops_english, dtype: object \n\nVyezdnaa \n 9    Vyezdnaa Torgovla\nName: shops_english, dtype: object \n\nZifrovoj \n 55    Zifrovoj sklad 1S-Onlajn\nName: shops_english, dtype: object \n\n",
          "name": "stdout"
        }
      ]
    },
    {
      "metadata": {
        "_uuid": "06e8ebd685a10ddeb1b1eeb69120a1e028d0eac6"
      },
      "cell_type": "markdown",
      "source": "merging  duplicate shops"
    },
    {
      "metadata": {
        "trusted": true,
        "_uuid": "37963a2e22c4b2379452193ba8bd7f0bb1789288"
      },
      "cell_type": "code",
      "source": "#Akutsk Ordjonikidze,\nsales.loc[sales.shop_id == 0, 'shop_id'] = 57\ntest.loc[test.shop_id == 0, 'shop_id'] = 57\n\n#Akutsk TZ \"Zentral_nyj\"\nsales.loc[sales.shop_id == 1, 'shop_id'] = 58\ntest.loc[test.shop_id == 1, 'shop_id'] = 58\n\n#Jukovskij ul. Ckalova 39m\nsales.loc[sales.shop_id == 10, 'shop_id'] = 11\ntest.loc[test.shop_id == 10, 'shop_id'] = 11",
      "execution_count": 19,
      "outputs": []
    },
    {
      "metadata": {
        "trusted": true,
        "_uuid": "5900375e207d8c9d290779ba25cd5d886f828b5b"
      },
      "cell_type": "code",
      "source": "# shops Label encoding\nshops[\"town_code\"] = labelencoder.fit_transform(shops[\"town_cleaned\"])\nshops = shops.drop([\"shops_english\", \"town\",\"town_cleaned\"], axis=1)",
      "execution_count": 20,
      "outputs": []
    },
    {
      "metadata": {
        "trusted": true,
        "_uuid": "51c0947714a678159214f7d0bda39f649a98ec13"
      },
      "cell_type": "code",
      "source": "shops.head()",
      "execution_count": 21,
      "outputs": [
        {
          "output_type": "execute_result",
          "execution_count": 21,
          "data": {
            "text/plain": "                        shop_name  shop_id  town_code\n0   !Якутск Орджоникидзе, 56 фран        0          1\n1   !Якутск ТЦ \"Центральный\" фран        1          1\n2                Адыгея ТЦ \"Мега\"        2          0\n3  Балашиха ТРК \"Октябрь-Киномир\"        3          3\n4        Волжский ТЦ \"Волга Молл\"        4         26",
            "text/html": "<div>\n<style scoped>\n    .dataframe tbody tr th:only-of-type {\n        vertical-align: middle;\n    }\n\n    .dataframe tbody tr th {\n        vertical-align: top;\n    }\n\n    .dataframe thead th {\n        text-align: right;\n    }\n</style>\n<table border=\"1\" class=\"dataframe\">\n  <thead>\n    <tr style=\"text-align: right;\">\n      <th></th>\n      <th>shop_name</th>\n      <th>shop_id</th>\n      <th>town_code</th>\n    </tr>\n  </thead>\n  <tbody>\n    <tr>\n      <th>0</th>\n      <td>!Якутск Орджоникидзе, 56 фран</td>\n      <td>0</td>\n      <td>1</td>\n    </tr>\n    <tr>\n      <th>1</th>\n      <td>!Якутск ТЦ \"Центральный\" фран</td>\n      <td>1</td>\n      <td>1</td>\n    </tr>\n    <tr>\n      <th>2</th>\n      <td>Адыгея ТЦ \"Мега\"</td>\n      <td>2</td>\n      <td>0</td>\n    </tr>\n    <tr>\n      <th>3</th>\n      <td>Балашиха ТРК \"Октябрь-Киномир\"</td>\n      <td>3</td>\n      <td>3</td>\n    </tr>\n    <tr>\n      <th>4</th>\n      <td>Волжский ТЦ \"Волга Молл\"</td>\n      <td>4</td>\n      <td>26</td>\n    </tr>\n  </tbody>\n</table>\n</div>"
          },
          "metadata": {}
        }
      ]
    },
    {
      "metadata": {
        "trusted": true,
        "_uuid": "ed73e03fde3210b7d79f2c64f68d2ef157fed05d"
      },
      "cell_type": "code",
      "source": "sales['date'][:2]",
      "execution_count": 22,
      "outputs": [
        {
          "output_type": "execute_result",
          "execution_count": 22,
          "data": {
            "text/plain": "0    02.01.2013\n1    03.01.2013\nName: date, dtype: object"
          },
          "metadata": {}
        }
      ]
    },
    {
      "metadata": {
        "trusted": true,
        "_uuid": "91ae543fd2e6ca64f330b065645d2dac449db64f"
      },
      "cell_type": "code",
      "source": "'''\nsales['date'] = pd.to_datetime(sales['date'] ,format = \"%d.%m.%Y\")\nsales['day'] = sales['date'].dt.day\nsales['week'] = sales['date'].dt.week\nsales['month'] = sales['date'].dt.month\nsales['year'] = sales['date'].dt.year\n'''",
      "execution_count": 23,
      "outputs": [
        {
          "output_type": "execute_result",
          "execution_count": 23,
          "data": {
            "text/plain": "'\\nsales[\\'date\\'] = pd.to_datetime(sales[\\'date\\'] ,format = \"%d.%m.%Y\")\\nsales[\\'day\\'] = sales[\\'date\\'].dt.day\\nsales[\\'week\\'] = sales[\\'date\\'].dt.week\\nsales[\\'month\\'] = sales[\\'date\\'].dt.month\\nsales[\\'year\\'] = sales[\\'date\\'].dt.year\\n'"
          },
          "metadata": {}
        }
      ]
    },
    {
      "metadata": {
        "trusted": true,
        "_uuid": "605aa68cfe72bff7d73838cc88a51c33ddd4f2d0"
      },
      "cell_type": "code",
      "source": "# Create \"grid\" with columns\nindex_cols = ['date_block_num','shop_id','item_id']\n\n# For every month we create a grid from all shops/items combinations from that month\ngrid = [] \nfor block_num in sales['date_block_num'].unique():\n    cur_shops = sales.loc[sales['date_block_num'] == block_num, 'shop_id'].unique()\n    cur_items = sales.loc[sales['date_block_num'] == block_num, 'item_id'].unique()\n    grid.append(np.array(list(product(*[[block_num] ,cur_shops, cur_items])),dtype='int32'))\n\n# Turn the grid into a dataframe\ngrid = pd.DataFrame(np.vstack(grid), columns = index_cols,dtype=np.int32)\n",
      "execution_count": 24,
      "outputs": []
    },
    {
      "metadata": {
        "trusted": true,
        "_uuid": "91d071202fa17bc6fe987ad246f4fe5e8365ef17"
      },
      "cell_type": "code",
      "source": "grid.head()",
      "execution_count": 25,
      "outputs": [
        {
          "output_type": "execute_result",
          "execution_count": 25,
          "data": {
            "text/plain": "   date_block_num  shop_id  item_id\n0               0       59    22154\n1               0       59     2552\n2               0       59     2554\n3               0       59     2555\n4               0       59     2564",
            "text/html": "<div>\n<style scoped>\n    .dataframe tbody tr th:only-of-type {\n        vertical-align: middle;\n    }\n\n    .dataframe tbody tr th {\n        vertical-align: top;\n    }\n\n    .dataframe thead th {\n        text-align: right;\n    }\n</style>\n<table border=\"1\" class=\"dataframe\">\n  <thead>\n    <tr style=\"text-align: right;\">\n      <th></th>\n      <th>date_block_num</th>\n      <th>shop_id</th>\n      <th>item_id</th>\n    </tr>\n  </thead>\n  <tbody>\n    <tr>\n      <th>0</th>\n      <td>0</td>\n      <td>59</td>\n      <td>22154</td>\n    </tr>\n    <tr>\n      <th>1</th>\n      <td>0</td>\n      <td>59</td>\n      <td>2552</td>\n    </tr>\n    <tr>\n      <th>2</th>\n      <td>0</td>\n      <td>59</td>\n      <td>2554</td>\n    </tr>\n    <tr>\n      <th>3</th>\n      <td>0</td>\n      <td>59</td>\n      <td>2555</td>\n    </tr>\n    <tr>\n      <th>4</th>\n      <td>0</td>\n      <td>59</td>\n      <td>2564</td>\n    </tr>\n  </tbody>\n</table>\n</div>"
          },
          "metadata": {}
        }
      ]
    },
    {
      "metadata": {
        "trusted": true,
        "_uuid": "8fd4ab082fae71ec064bef26e3e2b43f58380580"
      },
      "cell_type": "code",
      "source": "grid.sort_values(index_cols,inplace=True)",
      "execution_count": 26,
      "outputs": []
    },
    {
      "metadata": {
        "trusted": true,
        "_uuid": "3614ea46c1af21ae31925c67aac86dbd1c336210"
      },
      "cell_type": "code",
      "source": "# Groupby data to get shop-item-month aggregates\ngb = sales.groupby(index_cols,as_index=False).agg({'item_cnt_day':{'target':'sum'}})",
      "execution_count": 27,
      "outputs": [
        {
          "output_type": "stream",
          "text": "/opt/conda/lib/python3.6/site-packages/pandas/core/groupby/groupby.py:4656: FutureWarning: using a dict with renaming is deprecated and will be removed in a future version\n  return super(DataFrameGroupBy, self).aggregate(arg, *args, **kwargs)\n",
          "name": "stderr"
        }
      ]
    },
    {
      "metadata": {
        "trusted": true,
        "_uuid": "0eeff5418d9f5868190d54e40e1c7b3925faee1e"
      },
      "cell_type": "code",
      "source": "gb.head()",
      "execution_count": 28,
      "outputs": [
        {
          "output_type": "execute_result",
          "execution_count": 28,
          "data": {
            "text/plain": "  date_block_num shop_id item_id item_cnt_day\n                                       target\n0              0       2      27          1.0\n1              0       2      33          1.0\n2              0       2     317          1.0\n3              0       2     438          1.0\n4              0       2     471          2.0",
            "text/html": "<div>\n<style scoped>\n    .dataframe tbody tr th:only-of-type {\n        vertical-align: middle;\n    }\n\n    .dataframe tbody tr th {\n        vertical-align: top;\n    }\n\n    .dataframe thead tr th {\n        text-align: left;\n    }\n</style>\n<table border=\"1\" class=\"dataframe\">\n  <thead>\n    <tr>\n      <th></th>\n      <th>date_block_num</th>\n      <th>shop_id</th>\n      <th>item_id</th>\n      <th>item_cnt_day</th>\n    </tr>\n    <tr>\n      <th></th>\n      <th></th>\n      <th></th>\n      <th></th>\n      <th>target</th>\n    </tr>\n  </thead>\n  <tbody>\n    <tr>\n      <th>0</th>\n      <td>0</td>\n      <td>2</td>\n      <td>27</td>\n      <td>1.0</td>\n    </tr>\n    <tr>\n      <th>1</th>\n      <td>0</td>\n      <td>2</td>\n      <td>33</td>\n      <td>1.0</td>\n    </tr>\n    <tr>\n      <th>2</th>\n      <td>0</td>\n      <td>2</td>\n      <td>317</td>\n      <td>1.0</td>\n    </tr>\n    <tr>\n      <th>3</th>\n      <td>0</td>\n      <td>2</td>\n      <td>438</td>\n      <td>1.0</td>\n    </tr>\n    <tr>\n      <th>4</th>\n      <td>0</td>\n      <td>2</td>\n      <td>471</td>\n      <td>2.0</td>\n    </tr>\n  </tbody>\n</table>\n</div>"
          },
          "metadata": {}
        }
      ]
    },
    {
      "metadata": {
        "trusted": true,
        "_uuid": "855bd21231d2c91a78107c4c2e7c345b76e47741"
      },
      "cell_type": "code",
      "source": "# Fix column names\ngb.columns = [col[0] if col[-1]=='' else col[-1] for col in gb.columns.values] \ngb.head()",
      "execution_count": 29,
      "outputs": [
        {
          "output_type": "execute_result",
          "execution_count": 29,
          "data": {
            "text/plain": "   date_block_num  shop_id  item_id  target\n0               0        2       27     1.0\n1               0        2       33     1.0\n2               0        2      317     1.0\n3               0        2      438     1.0\n4               0        2      471     2.0",
            "text/html": "<div>\n<style scoped>\n    .dataframe tbody tr th:only-of-type {\n        vertical-align: middle;\n    }\n\n    .dataframe tbody tr th {\n        vertical-align: top;\n    }\n\n    .dataframe thead th {\n        text-align: right;\n    }\n</style>\n<table border=\"1\" class=\"dataframe\">\n  <thead>\n    <tr style=\"text-align: right;\">\n      <th></th>\n      <th>date_block_num</th>\n      <th>shop_id</th>\n      <th>item_id</th>\n      <th>target</th>\n    </tr>\n  </thead>\n  <tbody>\n    <tr>\n      <th>0</th>\n      <td>0</td>\n      <td>2</td>\n      <td>27</td>\n      <td>1.0</td>\n    </tr>\n    <tr>\n      <th>1</th>\n      <td>0</td>\n      <td>2</td>\n      <td>33</td>\n      <td>1.0</td>\n    </tr>\n    <tr>\n      <th>2</th>\n      <td>0</td>\n      <td>2</td>\n      <td>317</td>\n      <td>1.0</td>\n    </tr>\n    <tr>\n      <th>3</th>\n      <td>0</td>\n      <td>2</td>\n      <td>438</td>\n      <td>1.0</td>\n    </tr>\n    <tr>\n      <th>4</th>\n      <td>0</td>\n      <td>2</td>\n      <td>471</td>\n      <td>2.0</td>\n    </tr>\n  </tbody>\n</table>\n</div>"
          },
          "metadata": {}
        }
      ]
    },
    {
      "metadata": {
        "trusted": true,
        "_uuid": "2c21929e1386bb187de10709cbe6ec09ed274b46"
      },
      "cell_type": "code",
      "source": "# Join it to the grid\nall_data = pd.merge(grid, gb, how='left', on=index_cols)\nall_data ['target'] = all_data ['target'].fillna(0).clip(0,20).astype('float16')",
      "execution_count": 30,
      "outputs": []
    },
    {
      "metadata": {
        "trusted": true,
        "_uuid": "b0ab45bc9ceb95e4201710e3f04768db2c8e8956"
      },
      "cell_type": "code",
      "source": "del grid, gb \ngc.collect();",
      "execution_count": 31,
      "outputs": []
    },
    {
      "metadata": {
        "trusted": true,
        "_uuid": "5d8fe9db7258a7a7292ed473590b585fa669c26c"
      },
      "cell_type": "code",
      "source": "all_data.info()",
      "execution_count": 32,
      "outputs": [
        {
          "output_type": "stream",
          "text": "<class 'pandas.core.frame.DataFrame'>\nInt64Index: 10913804 entries, 0 to 10913803\nData columns (total 4 columns):\ndate_block_num    int32\nshop_id           int32\nitem_id           int32\ntarget            float16\ndtypes: float16(1), int32(3)\nmemory usage: 229.0 MB\n",
          "name": "stdout"
        }
      ]
    },
    {
      "metadata": {
        "trusted": true,
        "_uuid": "27a16242847d7b5e5c22613debba0b93390421f4"
      },
      "cell_type": "code",
      "source": "#downcasting data to save memory \nall_data['shop_id'] = all_data['shop_id'].astype(np.int8)\nall_data['item_id'] = all_data['item_id'].astype(np.int16)\nall_data['date_block_num'] = all_data['date_block_num'].astype(np.int8)",
      "execution_count": 33,
      "outputs": []
    },
    {
      "metadata": {
        "trusted": true,
        "_uuid": "e0ea52ac3f58806668c7356dfecf2f9f6c481fda"
      },
      "cell_type": "code",
      "source": "# Save `date_block_num` \ndates = all_data['date_block_num']\n\nlast_block = dates.max()\nprint('Test `date_block_num` is %d' % last_block)",
      "execution_count": 34,
      "outputs": [
        {
          "output_type": "stream",
          "text": "Test `date_block_num` is 33\n",
          "name": "stdout"
        }
      ]
    },
    {
      "metadata": {
        "trusted": true,
        "_uuid": "6824a3c85b4aa1100e43954a5b3973ce13293813"
      },
      "cell_type": "code",
      "source": "test['date_block_num'] = last_block + 1\ntest['shop_id'] = test['shop_id'].astype(np.int8)\ntest['item_id'] = test['item_id'].astype(np.int16)\ntest['date_block_num'] = test['date_block_num'].astype(np.int8)",
      "execution_count": 35,
      "outputs": []
    },
    {
      "metadata": {
        "trusted": true,
        "_uuid": "4f1f90f2879108ff7c3c9e91c44b7ff0f938e495"
      },
      "cell_type": "code",
      "source": "all_data = pd.concat([all_data, test], ignore_index=True, sort=False, keys=index_cols)\nall_data.fillna(0, inplace=True) # fill empty  month 34 of test set",
      "execution_count": 36,
      "outputs": []
    },
    {
      "metadata": {
        "trusted": true,
        "_uuid": "5f5449c95169a2682a16513121a5c8ecc76a3aa4"
      },
      "cell_type": "code",
      "source": "all_data = pd.merge(all_data, shops, on=['shop_id'], how='left')\nall_data = pd.merge(all_data, items, on=['item_id'], how='left')\nall_data = pd.merge(all_data, item_cats, on=['item_category_id'], how='left')",
      "execution_count": 37,
      "outputs": []
    },
    {
      "metadata": {
        "trusted": true,
        "_uuid": "a370f17dfa2c9ae17b9989c42921e2f2b8597f5f"
      },
      "cell_type": "code",
      "source": "all_data['town_code'] = all_data['town_code'].astype(np.int8)\nall_data['item_category_id'] = all_data['item_category_id'].astype(np.int8)\nall_data['meta_category_code'] = all_data['meta_category_code'].astype(np.int8)\nall_data['subtype_code'] = all_data['subtype_code'].astype(np.int8)",
      "execution_count": 38,
      "outputs": []
    },
    {
      "metadata": {
        "trusted": true,
        "_uuid": "d09e9905a11d7d3203b46a7a1681019f916baf3c"
      },
      "cell_type": "code",
      "source": "all_data.head()",
      "execution_count": 39,
      "outputs": [
        {
          "output_type": "execute_result",
          "execution_count": 39,
          "data": {
            "text/plain": "   date_block_num  shop_id  item_id  target         shop_name  town_code  \\\n0               0        2       19     0.0  Адыгея ТЦ \"Мега\"          0   \n1               0        2       27     1.0  Адыгея ТЦ \"Мега\"          0   \n2               0        2       28     0.0  Адыгея ТЦ \"Мега\"          0   \n3               0        2       29     0.0  Адыгея ТЦ \"Мега\"          0   \n4               0        2       32     0.0  Адыгея ТЦ \"Мега\"          0   \n\n                                 item_name  item_category_id  \\\n0                /ЗОЛОТАЯ КОЛЛЕКЦИЯ м/ф-72                40   \n1        007 Legends [PS3, русская версия]                19   \n2  007 Legends [PС, Jewel, русская версия]                30   \n3   007 Legends [Xbox 360, русская версия]                23   \n4                                      1+1                40   \n\n              item_category_name  meta_category_code  subtype_code  \n0                     Кино - DVD                  13            15  \n1                     Игры - PS3                   7            44  \n2  Игры PC - Стандартные издания                  10            56  \n3                Игры - XBOX 360                   7            62  \n4                     Кино - DVD                  13            15  ",
            "text/html": "<div>\n<style scoped>\n    .dataframe tbody tr th:only-of-type {\n        vertical-align: middle;\n    }\n\n    .dataframe tbody tr th {\n        vertical-align: top;\n    }\n\n    .dataframe thead th {\n        text-align: right;\n    }\n</style>\n<table border=\"1\" class=\"dataframe\">\n  <thead>\n    <tr style=\"text-align: right;\">\n      <th></th>\n      <th>date_block_num</th>\n      <th>shop_id</th>\n      <th>item_id</th>\n      <th>target</th>\n      <th>shop_name</th>\n      <th>town_code</th>\n      <th>item_name</th>\n      <th>item_category_id</th>\n      <th>item_category_name</th>\n      <th>meta_category_code</th>\n      <th>subtype_code</th>\n    </tr>\n  </thead>\n  <tbody>\n    <tr>\n      <th>0</th>\n      <td>0</td>\n      <td>2</td>\n      <td>19</td>\n      <td>0.0</td>\n      <td>Адыгея ТЦ \"Мега\"</td>\n      <td>0</td>\n      <td>/ЗОЛОТАЯ КОЛЛЕКЦИЯ м/ф-72</td>\n      <td>40</td>\n      <td>Кино - DVD</td>\n      <td>13</td>\n      <td>15</td>\n    </tr>\n    <tr>\n      <th>1</th>\n      <td>0</td>\n      <td>2</td>\n      <td>27</td>\n      <td>1.0</td>\n      <td>Адыгея ТЦ \"Мега\"</td>\n      <td>0</td>\n      <td>007 Legends [PS3, русская версия]</td>\n      <td>19</td>\n      <td>Игры - PS3</td>\n      <td>7</td>\n      <td>44</td>\n    </tr>\n    <tr>\n      <th>2</th>\n      <td>0</td>\n      <td>2</td>\n      <td>28</td>\n      <td>0.0</td>\n      <td>Адыгея ТЦ \"Мега\"</td>\n      <td>0</td>\n      <td>007 Legends [PС, Jewel, русская версия]</td>\n      <td>30</td>\n      <td>Игры PC - Стандартные издания</td>\n      <td>10</td>\n      <td>56</td>\n    </tr>\n    <tr>\n      <th>3</th>\n      <td>0</td>\n      <td>2</td>\n      <td>29</td>\n      <td>0.0</td>\n      <td>Адыгея ТЦ \"Мега\"</td>\n      <td>0</td>\n      <td>007 Legends [Xbox 360, русская версия]</td>\n      <td>23</td>\n      <td>Игры - XBOX 360</td>\n      <td>7</td>\n      <td>62</td>\n    </tr>\n    <tr>\n      <th>4</th>\n      <td>0</td>\n      <td>2</td>\n      <td>32</td>\n      <td>0.0</td>\n      <td>Адыгея ТЦ \"Мега\"</td>\n      <td>0</td>\n      <td>1+1</td>\n      <td>40</td>\n      <td>Кино - DVD</td>\n      <td>13</td>\n      <td>15</td>\n    </tr>\n  </tbody>\n</table>\n</div>"
          },
          "metadata": {}
        }
      ]
    },
    {
      "metadata": {
        "trusted": true,
        "_uuid": "07cfe8662d05724962be603b6906097461c7759b"
      },
      "cell_type": "code",
      "source": "all_data.drop(['item_name' ,'shop_name' ,'item_category_name'] ,axis= 1 , inplace = True)",
      "execution_count": 40,
      "outputs": []
    },
    {
      "metadata": {
        "trusted": true,
        "_uuid": "5b5c7b8c203098b760d567907d9cea8aa31934e1"
      },
      "cell_type": "code",
      "source": "all_data.info()",
      "execution_count": 41,
      "outputs": [
        {
          "output_type": "stream",
          "text": "<class 'pandas.core.frame.DataFrame'>\nInt64Index: 11128004 entries, 0 to 11128003\nData columns (total 8 columns):\ndate_block_num        int8\nshop_id               int8\nitem_id               int16\ntarget                float16\ntown_code             int8\nitem_category_id      int8\nmeta_category_code    int8\nsubtype_code          int8\ndtypes: float16(1), int16(1), int8(6)\nmemory usage: 191.0 MB\n",
          "name": "stdout"
        }
      ]
    },
    {
      "metadata": {
        "_uuid": "e511389fc620313c7badadd5f004d84936383873"
      },
      "cell_type": "markdown",
      "source": "# Mean Encdoing and Target Lags"
    },
    {
      "metadata": {
        "trusted": true,
        "_uuid": "3192a5bdbb562ef7c946a8c33b7104b4e2497e92"
      },
      "cell_type": "code",
      "source": "#  lags features (shift to mimic future values)\ndef lag_feature(df, lags, col):\n    tmp = df[['date_block_num','shop_id','item_id',col]]\n    for i in lags:\n        shifted = tmp.copy()\n        shifted.columns = ['date_block_num','shop_id','item_id', col+'_lag_'+str(i)]\n        shifted['date_block_num'] += i\n        df = pd.merge(df, shifted, on=['date_block_num','shop_id','item_id'], how='left')\n    return df",
      "execution_count": 42,
      "outputs": []
    },
    {
      "metadata": {
        "trusted": true,
        "_uuid": "c196ef10c233c68db04f61a61607ec85668a4b3f"
      },
      "cell_type": "code",
      "source": "# Make lag features for monthly count (target) , using expanding mean ecndoing regularizing technique \ndef expanding_mean_encoding(all_data, cols, name, lags):\n    a = all_data.copy()\n    cumsum = a.groupby(cols)['target'].cumsum() - a['target']\n    cumcnt = a.groupby(cols).cumcount()\n    a[name] = cumsum/cumcnt\n    \n    a[name] = a.groupby(cols)[name].transform(lambda x: x.fillna(x.mean()))\n    a[name] = a[name].astype(np.float32)\n    a = lag_feature(a, lags, name)\n    a.drop([name], axis=1, inplace=True)\n    return a",
      "execution_count": 43,
      "outputs": []
    },
    {
      "metadata": {
        "trusted": true,
        "_uuid": "382bd1c093222d4ae1a185053fd953fb5107b017"
      },
      "cell_type": "code",
      "source": "def KFoldScheme_mean_encoding(all_data, cols, name, lags):\n    a = all_data.copy()\n    kf = model_selection.KFold(5, shuffle=False)\n    a[name] = 0\n\n    for tr_ind, val_ind in kf.split(all_data):\n        X_tr, X_val = a.iloc[tr_ind], a.iloc[val_ind]\n        grp = X_tr.groupby(cols).target.mean()\n        grp2 = X_val.set_index(cols).index\n        a.loc[a.index[val_ind],name] = grp2.map(grp)\n\n    a[name] = a[name].astype(np.float16)\n    a = lag_feature(a, lags, name)\n    a.drop([name], axis=1, inplace=True)\n    return a",
      "execution_count": 44,
      "outputs": []
    },
    {
      "metadata": {
        "trusted": true,
        "_uuid": "63cf0dddfec896477928989f328fad4b9299243e"
      },
      "cell_type": "code",
      "source": "# Make lag encoded features for item_cnt_month\ndef mean_encoding_lag(matrix, cols, name, lags):\n    a = matrix.copy()\n    group = a.groupby(cols).agg({'target': ['mean']})\n    group.columns = [name]\n    group.reset_index(inplace=True)\n\n    a = pd.merge(a, group, on=cols, how='left')\n    a[name] = a[name].astype(np.float16)\n    a = lag_feature(a, lags, name)\n    a.drop([name], axis=1, inplace=True)\n    return a",
      "execution_count": 45,
      "outputs": []
    },
    {
      "metadata": {
        "trusted": true,
        "_uuid": "c0d1804f36d771a52d56357ab6853595beecfd79"
      },
      "cell_type": "code",
      "source": "all_data['target'] = all_data['target'].astype(np.float16)",
      "execution_count": 46,
      "outputs": []
    },
    {
      "metadata": {
        "trusted": true,
        "_uuid": "d7c1f4e12609ecbab63625cde9584792e432c87b"
      },
      "cell_type": "code",
      "source": "%%time\nall_data = lag_feature(all_data, [1,2,3,6,12], 'target')",
      "execution_count": 47,
      "outputs": [
        {
          "output_type": "stream",
          "text": "CPU times: user 40.5 s, sys: 9.57 s, total: 50.1 s\nWall time: 50.2 s\n",
          "name": "stdout"
        }
      ]
    },
    {
      "metadata": {
        "trusted": true,
        "_uuid": "ed059a7141e51d0acbd882d82df1efc9f47bf0d9"
      },
      "cell_type": "code",
      "source": "%%time\nall_data = KFoldScheme_mean_encoding(all_data, ['date_block_num'], 'date_avg_item_cnt', [1])",
      "execution_count": 48,
      "outputs": [
        {
          "output_type": "stream",
          "text": "CPU times: user 15.5 s, sys: 5.86 s, total: 21.4 s\nWall time: 21.4 s\n",
          "name": "stdout"
        }
      ]
    },
    {
      "metadata": {
        "trusted": true,
        "_uuid": "5bffeb9a0a8f405fe0587d9d50f739bf1634e5ee"
      },
      "cell_type": "code",
      "source": "%%time\nall_data = KFoldScheme_mean_encoding(all_data, ['date_block_num', 'item_id'], 'date_item_avg_item_cnt', [1,2,3,6,12])",
      "execution_count": 49,
      "outputs": [
        {
          "output_type": "stream",
          "text": "CPU times: user 1min 21s, sys: 17.3 s, total: 1min 38s\nWall time: 1min 38s\n",
          "name": "stdout"
        }
      ]
    },
    {
      "metadata": {
        "trusted": true,
        "_uuid": "1550eb755eb78c16f0592d706145a0a1862bb46f"
      },
      "cell_type": "code",
      "source": "%%time\nall_data = KFoldScheme_mean_encoding(all_data, ['date_block_num', 'shop_id'], 'date_shop_avg_item_cnt', [1,2,3,6,12])\n",
      "execution_count": 50,
      "outputs": [
        {
          "output_type": "stream",
          "text": "CPU times: user 1min 18s, sys: 19.4 s, total: 1min 38s\nWall time: 1min 38s\n",
          "name": "stdout"
        }
      ]
    },
    {
      "metadata": {
        "trusted": true,
        "_uuid": "cb36e9cc60c57a2d10a448496f66e96e8738984b"
      },
      "cell_type": "code",
      "source": "%%time\nall_data = KFoldScheme_mean_encoding(all_data, ['date_block_num', 'item_category_id'], 'date_category_avg_item_cnt', [1])",
      "execution_count": 51,
      "outputs": [
        {
          "output_type": "stream",
          "text": "CPU times: user 44.4 s, sys: 11.2 s, total: 55.6 s\nWall time: 55.6 s\n",
          "name": "stdout"
        }
      ]
    },
    {
      "metadata": {
        "trusted": true,
        "_uuid": "b931a13d6f7d0739825c927073a0acfa6b6f8579"
      },
      "cell_type": "code",
      "source": "%%time\nall_data = KFoldScheme_mean_encoding(all_data, ['date_block_num', 'shop_id', 'item_category_id'], 'date_shop_category_avg_item_cnt', [1])\n",
      "execution_count": 52,
      "outputs": [
        {
          "output_type": "stream",
          "text": "CPU times: user 49.3 s, sys: 11.8 s, total: 1min 1s\nWall time: 1min 1s\n",
          "name": "stdout"
        }
      ]
    },
    {
      "metadata": {
        "trusted": true,
        "_uuid": "c57ff617154279bfb29fe10eeb5751e610f95b35"
      },
      "cell_type": "code",
      "source": "%%time\nall_data = KFoldScheme_mean_encoding(all_data, ['date_block_num', 'shop_id', 'meta_category_code'], 'date_shop_meta_category_avg_item_cnt', [1])\n",
      "execution_count": 53,
      "outputs": [
        {
          "output_type": "stream",
          "text": "CPU times: user 49.8 s, sys: 13 s, total: 1min 2s\nWall time: 1min 2s\n",
          "name": "stdout"
        }
      ]
    },
    {
      "metadata": {
        "trusted": true,
        "_uuid": "99f47ccd79f6d19484baeb1429d6536dab5d324b"
      },
      "cell_type": "code",
      "source": "%%time\nall_data = KFoldScheme_mean_encoding(all_data, ['date_block_num', 'shop_id', 'subtype_code'], 'date_shop_subtype_avg_item_cnt', [1])\n",
      "execution_count": 54,
      "outputs": [
        {
          "output_type": "stream",
          "text": "CPU times: user 50.2 s, sys: 13.1 s, total: 1min 3s\nWall time: 1min 3s\n",
          "name": "stdout"
        }
      ]
    },
    {
      "metadata": {
        "trusted": true,
        "_uuid": "0b710cf5e1a02a1f1716de18283718b99be5efa6"
      },
      "cell_type": "code",
      "source": "%%time\nall_data = KFoldScheme_mean_encoding(all_data, ['date_block_num', 'town_code'], 'date_town_avg_item_cnt', [1])\ngc.collect();",
      "execution_count": 55,
      "outputs": [
        {
          "output_type": "stream",
          "text": "CPU times: user 45.2 s, sys: 13.4 s, total: 58.6 s\nWall time: 58.6 s\n",
          "name": "stdout"
        }
      ]
    },
    {
      "metadata": {
        "trusted": true,
        "_uuid": "d5f6a4f6a5ded3a16cfa333c8c2f8b476c541a19"
      },
      "cell_type": "code",
      "source": "%%time\nall_data = KFoldScheme_mean_encoding(all_data, ['date_block_num', 'item_id', 'town_code'], 'date_item_town_avg_item_cnt', [1])\n",
      "execution_count": 56,
      "outputs": [
        {
          "output_type": "stream",
          "text": "CPU times: user 1min 13s, sys: 16.1 s, total: 1min 29s\nWall time: 1min 29s\n",
          "name": "stdout"
        }
      ]
    },
    {
      "metadata": {
        "trusted": true,
        "_uuid": "64fcf2bcea9e9638a4d9a85680bc0cf0fa9c356e"
      },
      "cell_type": "code",
      "source": "%%time\nall_data = KFoldScheme_mean_encoding(all_data, ['date_block_num', 'meta_category_code'], 'date_meta_category_avg_item_cnt', [1])\n",
      "execution_count": 57,
      "outputs": [
        {
          "output_type": "stream",
          "text": "CPU times: user 45.4 s, sys: 12.5 s, total: 57.9 s\nWall time: 57.9 s\n",
          "name": "stdout"
        }
      ]
    },
    {
      "metadata": {
        "trusted": true,
        "_uuid": "d9be8a4cde142f5cd63d38e83973141c7ab28a55"
      },
      "cell_type": "code",
      "source": "%%time\nall_data = KFoldScheme_mean_encoding(all_data, ['date_block_num', 'subtype_code'], 'date_subtype_avg_item_cnt', [1])\n\n",
      "execution_count": 58,
      "outputs": [
        {
          "output_type": "stream",
          "text": "CPU times: user 46.4 s, sys: 14.3 s, total: 1min\nWall time: 1min\n",
          "name": "stdout"
        }
      ]
    },
    {
      "metadata": {
        "trusted": true,
        "_uuid": "e5d6b1c0d6acfa184e96ab34f0b4cdf37ccb73a0"
      },
      "cell_type": "code",
      "source": "gc.collect();\nall_data.head()",
      "execution_count": 59,
      "outputs": [
        {
          "output_type": "execute_result",
          "execution_count": 59,
          "data": {
            "text/plain": "   date_block_num  shop_id  item_id  target  town_code  item_category_id  \\\n0               0        2       19     0.0          0                40   \n1               0        2       27     1.0          0                19   \n2               0        2       28     0.0          0                30   \n3               0        2       29     0.0          0                23   \n4               0        2       32     0.0          0                40   \n\n   meta_category_code  subtype_code  target_lag_1  target_lag_2  target_lag_3  \\\n0                  13            15           NaN           NaN           NaN   \n1                   7            44           NaN           NaN           NaN   \n2                  10            56           NaN           NaN           NaN   \n3                   7            62           NaN           NaN           NaN   \n4                  13            15           NaN           NaN           NaN   \n\n   target_lag_6  target_lag_12  date_avg_item_cnt_lag_1  \\\n0           NaN            NaN                      NaN   \n1           NaN            NaN                      NaN   \n2           NaN            NaN                      NaN   \n3           NaN            NaN                      NaN   \n4           NaN            NaN                      NaN   \n\n   date_item_avg_item_cnt_lag_1  date_item_avg_item_cnt_lag_2  \\\n0                           NaN                           NaN   \n1                           NaN                           NaN   \n2                           NaN                           NaN   \n3                           NaN                           NaN   \n4                           NaN                           NaN   \n\n   date_item_avg_item_cnt_lag_3  date_item_avg_item_cnt_lag_6  \\\n0                           NaN                           NaN   \n1                           NaN                           NaN   \n2                           NaN                           NaN   \n3                           NaN                           NaN   \n4                           NaN                           NaN   \n\n   date_item_avg_item_cnt_lag_12  date_shop_avg_item_cnt_lag_1  \\\n0                            NaN                           NaN   \n1                            NaN                           NaN   \n2                            NaN                           NaN   \n3                            NaN                           NaN   \n4                            NaN                           NaN   \n\n   date_shop_avg_item_cnt_lag_2  date_shop_avg_item_cnt_lag_3  \\\n0                           NaN                           NaN   \n1                           NaN                           NaN   \n2                           NaN                           NaN   \n3                           NaN                           NaN   \n4                           NaN                           NaN   \n\n   date_shop_avg_item_cnt_lag_6  date_shop_avg_item_cnt_lag_12  \\\n0                           NaN                            NaN   \n1                           NaN                            NaN   \n2                           NaN                            NaN   \n3                           NaN                            NaN   \n4                           NaN                            NaN   \n\n   date_category_avg_item_cnt_lag_1  date_shop_category_avg_item_cnt_lag_1  \\\n0                               NaN                                    NaN   \n1                               NaN                                    NaN   \n2                               NaN                                    NaN   \n3                               NaN                                    NaN   \n4                               NaN                                    NaN   \n\n   date_shop_meta_category_avg_item_cnt_lag_1  \\\n0                                         NaN   \n1                                         NaN   \n2                                         NaN   \n3                                         NaN   \n4                                         NaN   \n\n   date_shop_subtype_avg_item_cnt_lag_1  date_town_avg_item_cnt_lag_1  \\\n0                                   NaN                           NaN   \n1                                   NaN                           NaN   \n2                                   NaN                           NaN   \n3                                   NaN                           NaN   \n4                                   NaN                           NaN   \n\n   date_item_town_avg_item_cnt_lag_1  date_meta_category_avg_item_cnt_lag_1  \\\n0                                NaN                                    NaN   \n1                                NaN                                    NaN   \n2                                NaN                                    NaN   \n3                                NaN                                    NaN   \n4                                NaN                                    NaN   \n\n   date_subtype_avg_item_cnt_lag_1  \n0                              NaN  \n1                              NaN  \n2                              NaN  \n3                              NaN  \n4                              NaN  ",
            "text/html": "<div>\n<style scoped>\n    .dataframe tbody tr th:only-of-type {\n        vertical-align: middle;\n    }\n\n    .dataframe tbody tr th {\n        vertical-align: top;\n    }\n\n    .dataframe thead th {\n        text-align: right;\n    }\n</style>\n<table border=\"1\" class=\"dataframe\">\n  <thead>\n    <tr style=\"text-align: right;\">\n      <th></th>\n      <th>date_block_num</th>\n      <th>shop_id</th>\n      <th>item_id</th>\n      <th>target</th>\n      <th>town_code</th>\n      <th>item_category_id</th>\n      <th>meta_category_code</th>\n      <th>subtype_code</th>\n      <th>target_lag_1</th>\n      <th>target_lag_2</th>\n      <th>target_lag_3</th>\n      <th>target_lag_6</th>\n      <th>target_lag_12</th>\n      <th>date_avg_item_cnt_lag_1</th>\n      <th>date_item_avg_item_cnt_lag_1</th>\n      <th>date_item_avg_item_cnt_lag_2</th>\n      <th>date_item_avg_item_cnt_lag_3</th>\n      <th>date_item_avg_item_cnt_lag_6</th>\n      <th>date_item_avg_item_cnt_lag_12</th>\n      <th>date_shop_avg_item_cnt_lag_1</th>\n      <th>date_shop_avg_item_cnt_lag_2</th>\n      <th>date_shop_avg_item_cnt_lag_3</th>\n      <th>date_shop_avg_item_cnt_lag_6</th>\n      <th>date_shop_avg_item_cnt_lag_12</th>\n      <th>date_category_avg_item_cnt_lag_1</th>\n      <th>date_shop_category_avg_item_cnt_lag_1</th>\n      <th>date_shop_meta_category_avg_item_cnt_lag_1</th>\n      <th>date_shop_subtype_avg_item_cnt_lag_1</th>\n      <th>date_town_avg_item_cnt_lag_1</th>\n      <th>date_item_town_avg_item_cnt_lag_1</th>\n      <th>date_meta_category_avg_item_cnt_lag_1</th>\n      <th>date_subtype_avg_item_cnt_lag_1</th>\n    </tr>\n  </thead>\n  <tbody>\n    <tr>\n      <th>0</th>\n      <td>0</td>\n      <td>2</td>\n      <td>19</td>\n      <td>0.0</td>\n      <td>0</td>\n      <td>40</td>\n      <td>13</td>\n      <td>15</td>\n      <td>NaN</td>\n      <td>NaN</td>\n      <td>NaN</td>\n      <td>NaN</td>\n      <td>NaN</td>\n      <td>NaN</td>\n      <td>NaN</td>\n      <td>NaN</td>\n      <td>NaN</td>\n      <td>NaN</td>\n      <td>NaN</td>\n      <td>NaN</td>\n      <td>NaN</td>\n      <td>NaN</td>\n      <td>NaN</td>\n      <td>NaN</td>\n      <td>NaN</td>\n      <td>NaN</td>\n      <td>NaN</td>\n      <td>NaN</td>\n      <td>NaN</td>\n      <td>NaN</td>\n      <td>NaN</td>\n      <td>NaN</td>\n    </tr>\n    <tr>\n      <th>1</th>\n      <td>0</td>\n      <td>2</td>\n      <td>27</td>\n      <td>1.0</td>\n      <td>0</td>\n      <td>19</td>\n      <td>7</td>\n      <td>44</td>\n      <td>NaN</td>\n      <td>NaN</td>\n      <td>NaN</td>\n      <td>NaN</td>\n      <td>NaN</td>\n      <td>NaN</td>\n      <td>NaN</td>\n      <td>NaN</td>\n      <td>NaN</td>\n      <td>NaN</td>\n      <td>NaN</td>\n      <td>NaN</td>\n      <td>NaN</td>\n      <td>NaN</td>\n      <td>NaN</td>\n      <td>NaN</td>\n      <td>NaN</td>\n      <td>NaN</td>\n      <td>NaN</td>\n      <td>NaN</td>\n      <td>NaN</td>\n      <td>NaN</td>\n      <td>NaN</td>\n      <td>NaN</td>\n    </tr>\n    <tr>\n      <th>2</th>\n      <td>0</td>\n      <td>2</td>\n      <td>28</td>\n      <td>0.0</td>\n      <td>0</td>\n      <td>30</td>\n      <td>10</td>\n      <td>56</td>\n      <td>NaN</td>\n      <td>NaN</td>\n      <td>NaN</td>\n      <td>NaN</td>\n      <td>NaN</td>\n      <td>NaN</td>\n      <td>NaN</td>\n      <td>NaN</td>\n      <td>NaN</td>\n      <td>NaN</td>\n      <td>NaN</td>\n      <td>NaN</td>\n      <td>NaN</td>\n      <td>NaN</td>\n      <td>NaN</td>\n      <td>NaN</td>\n      <td>NaN</td>\n      <td>NaN</td>\n      <td>NaN</td>\n      <td>NaN</td>\n      <td>NaN</td>\n      <td>NaN</td>\n      <td>NaN</td>\n      <td>NaN</td>\n    </tr>\n    <tr>\n      <th>3</th>\n      <td>0</td>\n      <td>2</td>\n      <td>29</td>\n      <td>0.0</td>\n      <td>0</td>\n      <td>23</td>\n      <td>7</td>\n      <td>62</td>\n      <td>NaN</td>\n      <td>NaN</td>\n      <td>NaN</td>\n      <td>NaN</td>\n      <td>NaN</td>\n      <td>NaN</td>\n      <td>NaN</td>\n      <td>NaN</td>\n      <td>NaN</td>\n      <td>NaN</td>\n      <td>NaN</td>\n      <td>NaN</td>\n      <td>NaN</td>\n      <td>NaN</td>\n      <td>NaN</td>\n      <td>NaN</td>\n      <td>NaN</td>\n      <td>NaN</td>\n      <td>NaN</td>\n      <td>NaN</td>\n      <td>NaN</td>\n      <td>NaN</td>\n      <td>NaN</td>\n      <td>NaN</td>\n    </tr>\n    <tr>\n      <th>4</th>\n      <td>0</td>\n      <td>2</td>\n      <td>32</td>\n      <td>0.0</td>\n      <td>0</td>\n      <td>40</td>\n      <td>13</td>\n      <td>15</td>\n      <td>NaN</td>\n      <td>NaN</td>\n      <td>NaN</td>\n      <td>NaN</td>\n      <td>NaN</td>\n      <td>NaN</td>\n      <td>NaN</td>\n      <td>NaN</td>\n      <td>NaN</td>\n      <td>NaN</td>\n      <td>NaN</td>\n      <td>NaN</td>\n      <td>NaN</td>\n      <td>NaN</td>\n      <td>NaN</td>\n      <td>NaN</td>\n      <td>NaN</td>\n      <td>NaN</td>\n      <td>NaN</td>\n      <td>NaN</td>\n      <td>NaN</td>\n      <td>NaN</td>\n      <td>NaN</td>\n      <td>NaN</td>\n    </tr>\n  </tbody>\n</table>\n</div>"
          },
          "metadata": {}
        }
      ]
    },
    {
      "metadata": {
        "trusted": true,
        "_uuid": "3f4ee4e58fd388c69a71b7a1b1901cfc1609b242"
      },
      "cell_type": "code",
      "source": "all_data['month'] = all_data['date_block_num'] % 12",
      "execution_count": 60,
      "outputs": []
    },
    {
      "metadata": {
        "trusted": true,
        "_uuid": "1dd46491e770e31ca3f85ee9bfd92fedfb4bc058"
      },
      "cell_type": "code",
      "source": "days = pd.Series([31,28,31,30,31,30,31,31,30,31,30,31])\nall_data['days'] = all_data['month'].map(days).astype(np.int8)",
      "execution_count": 61,
      "outputs": []
    },
    {
      "metadata": {
        "trusted": true,
        "_uuid": "b8c2f78c6b5e50c6c8b49edd3cc8653244ae89f0"
      },
      "cell_type": "code",
      "source": "all_data['item_shop_first_sale'] = all_data['date_block_num'] - all_data.groupby(['item_id','shop_id'])['date_block_num'].transform('min')\nall_data['item_first_sale'] = all_data['date_block_num'] - all_data.groupby('item_id')['date_block_num'].transform('min')",
      "execution_count": 62,
      "outputs": []
    },
    {
      "metadata": {
        "trusted": true,
        "_uuid": "213ba65d70c27067533f9158f3dafc5160d47898"
      },
      "cell_type": "code",
      "source": "all_data = all_data[all_data.date_block_num > 11]",
      "execution_count": 63,
      "outputs": []
    },
    {
      "metadata": {
        "trusted": true,
        "_uuid": "55fcca2abc5aa6818063db8b40be16f73ddbb0f5"
      },
      "cell_type": "code",
      "source": "all_data.fillna(0,inplace = True)",
      "execution_count": 64,
      "outputs": []
    },
    {
      "metadata": {
        "trusted": true,
        "_uuid": "1a2ee59b963300449cb27396e4a1070c82759c97"
      },
      "cell_type": "code",
      "source": "all_data.columns",
      "execution_count": 65,
      "outputs": [
        {
          "output_type": "execute_result",
          "execution_count": 65,
          "data": {
            "text/plain": "Index(['date_block_num', 'shop_id', 'item_id', 'target', 'town_code',\n       'item_category_id', 'meta_category_code', 'subtype_code',\n       'target_lag_1', 'target_lag_2', 'target_lag_3', 'target_lag_6',\n       'target_lag_12', 'date_avg_item_cnt_lag_1',\n       'date_item_avg_item_cnt_lag_1', 'date_item_avg_item_cnt_lag_2',\n       'date_item_avg_item_cnt_lag_3', 'date_item_avg_item_cnt_lag_6',\n       'date_item_avg_item_cnt_lag_12', 'date_shop_avg_item_cnt_lag_1',\n       'date_shop_avg_item_cnt_lag_2', 'date_shop_avg_item_cnt_lag_3',\n       'date_shop_avg_item_cnt_lag_6', 'date_shop_avg_item_cnt_lag_12',\n       'date_category_avg_item_cnt_lag_1',\n       'date_shop_category_avg_item_cnt_lag_1',\n       'date_shop_meta_category_avg_item_cnt_lag_1',\n       'date_shop_subtype_avg_item_cnt_lag_1', 'date_town_avg_item_cnt_lag_1',\n       'date_item_town_avg_item_cnt_lag_1',\n       'date_meta_category_avg_item_cnt_lag_1',\n       'date_subtype_avg_item_cnt_lag_1', 'month', 'days',\n       'item_shop_first_sale', 'item_first_sale'],\n      dtype='object')"
          },
          "metadata": {}
        }
      ]
    },
    {
      "metadata": {
        "trusted": true,
        "_uuid": "345ca880fa11686ca8ce280652e41fb195a3fea1"
      },
      "cell_type": "code",
      "source": "all_data.info()",
      "execution_count": 66,
      "outputs": [
        {
          "output_type": "stream",
          "text": "<class 'pandas.core.frame.DataFrame'>\nInt64Index: 6639294 entries, 4488710 to 11128003\nData columns (total 36 columns):\ndate_block_num                                int8\nshop_id                                       int8\nitem_id                                       int16\ntarget                                        float16\ntown_code                                     int8\nitem_category_id                              int8\nmeta_category_code                            int8\nsubtype_code                                  int8\ntarget_lag_1                                  float16\ntarget_lag_2                                  float16\ntarget_lag_3                                  float16\ntarget_lag_6                                  float16\ntarget_lag_12                                 float16\ndate_avg_item_cnt_lag_1                       float16\ndate_item_avg_item_cnt_lag_1                  float16\ndate_item_avg_item_cnt_lag_2                  float16\ndate_item_avg_item_cnt_lag_3                  float16\ndate_item_avg_item_cnt_lag_6                  float16\ndate_item_avg_item_cnt_lag_12                 float16\ndate_shop_avg_item_cnt_lag_1                  float16\ndate_shop_avg_item_cnt_lag_2                  float16\ndate_shop_avg_item_cnt_lag_3                  float16\ndate_shop_avg_item_cnt_lag_6                  float16\ndate_shop_avg_item_cnt_lag_12                 float16\ndate_category_avg_item_cnt_lag_1              float16\ndate_shop_category_avg_item_cnt_lag_1         float16\ndate_shop_meta_category_avg_item_cnt_lag_1    float16\ndate_shop_subtype_avg_item_cnt_lag_1          float16\ndate_town_avg_item_cnt_lag_1                  float16\ndate_item_town_avg_item_cnt_lag_1             float16\ndate_meta_category_avg_item_cnt_lag_1         float16\ndate_subtype_avg_item_cnt_lag_1               float16\nmonth                                         int8\ndays                                          int8\nitem_shop_first_sale                          int8\nitem_first_sale                               int8\ndtypes: float16(25), int16(1), int8(10)\nmemory usage: 443.2 MB\n",
          "name": "stdout"
        }
      ]
    },
    {
      "metadata": {
        "trusted": true,
        "_uuid": "f0eb951ac131a73dfa09d10ea2e909f2fff34cab"
      },
      "cell_type": "code",
      "source": "all_data.isnull().sum()",
      "execution_count": 67,
      "outputs": [
        {
          "output_type": "execute_result",
          "execution_count": 67,
          "data": {
            "text/plain": "date_block_num                                0\nshop_id                                       0\nitem_id                                       0\ntarget                                        0\ntown_code                                     0\nitem_category_id                              0\nmeta_category_code                            0\nsubtype_code                                  0\ntarget_lag_1                                  0\ntarget_lag_2                                  0\ntarget_lag_3                                  0\ntarget_lag_6                                  0\ntarget_lag_12                                 0\ndate_avg_item_cnt_lag_1                       0\ndate_item_avg_item_cnt_lag_1                  0\ndate_item_avg_item_cnt_lag_2                  0\ndate_item_avg_item_cnt_lag_3                  0\ndate_item_avg_item_cnt_lag_6                  0\ndate_item_avg_item_cnt_lag_12                 0\ndate_shop_avg_item_cnt_lag_1                  0\ndate_shop_avg_item_cnt_lag_2                  0\ndate_shop_avg_item_cnt_lag_3                  0\ndate_shop_avg_item_cnt_lag_6                  0\ndate_shop_avg_item_cnt_lag_12                 0\ndate_category_avg_item_cnt_lag_1              0\ndate_shop_category_avg_item_cnt_lag_1         0\ndate_shop_meta_category_avg_item_cnt_lag_1    0\ndate_shop_subtype_avg_item_cnt_lag_1          0\ndate_town_avg_item_cnt_lag_1                  0\ndate_item_town_avg_item_cnt_lag_1             0\ndate_meta_category_avg_item_cnt_lag_1         0\ndate_subtype_avg_item_cnt_lag_1               0\nmonth                                         0\ndays                                          0\nitem_shop_first_sale                          0\nitem_first_sale                               0\ndtype: int64"
          },
          "metadata": {}
        }
      ]
    },
    {
      "metadata": {
        "trusted": true,
        "_uuid": "f922d127aba2ed355e8b88407275f737b0ae5ac6"
      },
      "cell_type": "code",
      "source": "all_data.describe()",
      "execution_count": 68,
      "outputs": [
        {
          "output_type": "execute_result",
          "execution_count": 68,
          "data": {
            "text/plain": "       date_block_num       shop_id       item_id     target     town_code  \\\ncount    6.639294e+06  6.639294e+06  6.639294e+06  6639294.0  6.639294e+06   \nmean     2.199694e+01  3.189465e+01  1.126362e+04        NaN  1.512988e+01   \nstd      6.461452e+00  1.724158e+01  6.271893e+03        0.0  7.964897e+00   \nmin      1.200000e+01  2.000000e+00  0.000000e+00        0.0  0.000000e+00   \n25%      1.600000e+01  1.700000e+01  5.680000e+03        0.0  1.000000e+01   \n50%      2.200000e+01  3.300000e+01  1.137200e+04        0.0  1.300000e+01   \n75%      2.700000e+01  4.700000e+01  1.653600e+04        0.0  2.200000e+01   \nmax      3.400000e+01  5.900000e+01  2.216900e+04       20.0  3.000000e+01   \n\n       item_category_id  meta_category_code  subtype_code  target_lag_1  \\\ncount      6.639294e+06        6.639294e+06  6.639294e+06     6639294.0   \nmean       4.495836e+01        1.311957e+01  2.724477e+01           NaN   \nstd        1.573942e+01        3.351381e+00  1.984909e+01           0.0   \nmin        0.000000e+00        0.000000e+00  0.000000e+00           0.0   \n25%        3.700000e+01        1.300000e+01  1.200000e+01           0.0   \n50%        4.000000e+01        1.300000e+01  1.500000e+01           0.0   \n75%        5.600000e+01        1.500000e+01  4.400000e+01           0.0   \nmax        8.300000e+01        2.000000e+01  6.400000e+01          20.0   \n\n       target_lag_2  target_lag_3  target_lag_6  target_lag_12  \\\ncount     6639294.0     6639294.0     6639294.0      6639294.0   \nmean            NaN           NaN           NaN            NaN   \nstd             0.0           0.0           0.0            0.0   \nmin             0.0           0.0           0.0            0.0   \n25%             0.0           0.0           0.0            0.0   \n50%             0.0           0.0           0.0            0.0   \n75%             0.0           0.0           0.0            0.0   \nmax            20.0          20.0          20.0           20.0   \n\n       date_avg_item_cnt_lag_1  date_item_avg_item_cnt_lag_1  \\\ncount             6.639294e+06                     6639294.0   \nmean                       NaN                           NaN   \nstd               0.000000e+00                           0.0   \nmin               0.000000e+00                           0.0   \n25%               0.000000e+00                           0.0   \n50%               0.000000e+00                           0.0   \n75%               0.000000e+00                           0.0   \nmax               4.965820e-01                          20.0   \n\n       date_item_avg_item_cnt_lag_2  date_item_avg_item_cnt_lag_3  \\\ncount                     6639294.0                     6639294.0   \nmean                            NaN                           NaN   \nstd                             0.0                           0.0   \nmin                             0.0                           0.0   \n25%                             0.0                           0.0   \n50%                             0.0                           0.0   \n75%                             0.0                           0.0   \nmax                            20.0                          20.0   \n\n       date_item_avg_item_cnt_lag_6  date_item_avg_item_cnt_lag_12  \\\ncount                     6639294.0                      6639294.0   \nmean                            NaN                            NaN   \nstd                             0.0                            0.0   \nmin                             0.0                            0.0   \n25%                             0.0                            0.0   \n50%                             0.0                            0.0   \n75%                             0.0                            0.0   \nmax                            20.0                           20.0   \n\n       date_shop_avg_item_cnt_lag_1  date_shop_avg_item_cnt_lag_2  \\\ncount                  6.639294e+06                  6.639294e+06   \nmean                   3.604889e-04                  3.285408e-04   \nstd                    7.926941e-03                  7.553101e-03   \nmin                    0.000000e+00                  0.000000e+00   \n25%                    0.000000e+00                  0.000000e+00   \n50%                    0.000000e+00                  0.000000e+00   \n75%                    0.000000e+00                  0.000000e+00   \nmax                    2.521973e-01                  2.521973e-01   \n\n       date_shop_avg_item_cnt_lag_3  date_shop_avg_item_cnt_lag_6  \\\ncount                  6.639294e+06                  6.639294e+06   \nmean                   3.151894e-04                  2.679825e-04   \nstd                    7.389069e-03                  6.816864e-03   \nmin                    0.000000e+00                  0.000000e+00   \n25%                    0.000000e+00                  0.000000e+00   \n50%                    0.000000e+00                  0.000000e+00   \n75%                    0.000000e+00                  0.000000e+00   \nmax                    2.521973e-01                  2.521973e-01   \n\n       date_shop_avg_item_cnt_lag_12  date_category_avg_item_cnt_lag_1  \\\ncount                   6.639294e+06                         6639294.0   \nmean                    1.417398e-04                               NaN   \nstd                     4.306793e-03                               0.0   \nmin                     0.000000e+00                               0.0   \n25%                     0.000000e+00                               0.0   \n50%                     0.000000e+00                               0.0   \n75%                     0.000000e+00                               0.0   \nmax                     1.966553e-01                              20.0   \n\n       date_shop_category_avg_item_cnt_lag_1  \\\ncount                           6.639294e+06   \nmean                            4.184246e-04   \nstd                             3.616333e-02   \nmin                             0.000000e+00   \n25%                             0.000000e+00   \n50%                             0.000000e+00   \n75%                             0.000000e+00   \nmax                             2.000000e+01   \n\n       date_shop_meta_category_avg_item_cnt_lag_1  \\\ncount                                6.639294e+06   \nmean                                 4.787445e-04   \nstd                                  2.215576e-02   \nmin                                  0.000000e+00   \n25%                                  0.000000e+00   \n50%                                  0.000000e+00   \n75%                                  0.000000e+00   \nmax                                  2.076172e+00   \n\n       date_shop_subtype_avg_item_cnt_lag_1  date_town_avg_item_cnt_lag_1  \\\ncount                          6.639294e+06                  6.639294e+06   \nmean                           4.756451e-04                  3.604889e-04   \nstd                            4.025269e-02                  7.926941e-03   \nmin                            0.000000e+00                  0.000000e+00   \n25%                            0.000000e+00                  0.000000e+00   \n50%                            0.000000e+00                  0.000000e+00   \n75%                            0.000000e+00                  0.000000e+00   \nmax                            2.000000e+01                  2.521973e-01   \n\n       date_item_town_avg_item_cnt_lag_1  \\\ncount                          6639294.0   \nmean                                 0.0   \nstd                                  0.0   \nmin                                  0.0   \n25%                                  0.0   \n50%                                  0.0   \n75%                                  0.0   \nmax                                  0.0   \n\n       date_meta_category_avg_item_cnt_lag_1  date_subtype_avg_item_cnt_lag_1  \\\ncount                           6.639294e+06                     6.639294e+06   \nmean                                     NaN                              NaN   \nstd                             0.000000e+00                     0.000000e+00   \nmin                             0.000000e+00                     0.000000e+00   \n25%                             0.000000e+00                     0.000000e+00   \n50%                             0.000000e+00                     0.000000e+00   \n75%                             0.000000e+00                     0.000000e+00   \nmax                             1.536719e+01                     1.935938e+01   \n\n              month          days  item_shop_first_sale  item_first_sale  \ncount  6.639294e+06  6.639294e+06          6.639294e+06     6.639294e+06  \nmean   5.117307e+00  3.039279e+01          1.225471e+01     1.307342e+01  \nstd    3.388494e+00  8.900391e-01          8.390482e+00     8.447809e+00  \nmin    0.000000e+00  2.800000e+01          0.000000e+00     0.000000e+00  \n25%    2.000000e+00  3.000000e+01          5.000000e+00     6.000000e+00  \n50%    5.000000e+00  3.100000e+01          1.200000e+01     1.300000e+01  \n75%    8.000000e+00  3.100000e+01          1.800000e+01     1.900000e+01  \nmax    1.100000e+01  3.100000e+01          3.400000e+01     3.400000e+01  ",
            "text/html": "<div>\n<style scoped>\n    .dataframe tbody tr th:only-of-type {\n        vertical-align: middle;\n    }\n\n    .dataframe tbody tr th {\n        vertical-align: top;\n    }\n\n    .dataframe thead th {\n        text-align: right;\n    }\n</style>\n<table border=\"1\" class=\"dataframe\">\n  <thead>\n    <tr style=\"text-align: right;\">\n      <th></th>\n      <th>date_block_num</th>\n      <th>shop_id</th>\n      <th>item_id</th>\n      <th>target</th>\n      <th>town_code</th>\n      <th>item_category_id</th>\n      <th>meta_category_code</th>\n      <th>subtype_code</th>\n      <th>target_lag_1</th>\n      <th>target_lag_2</th>\n      <th>target_lag_3</th>\n      <th>target_lag_6</th>\n      <th>target_lag_12</th>\n      <th>date_avg_item_cnt_lag_1</th>\n      <th>date_item_avg_item_cnt_lag_1</th>\n      <th>date_item_avg_item_cnt_lag_2</th>\n      <th>date_item_avg_item_cnt_lag_3</th>\n      <th>date_item_avg_item_cnt_lag_6</th>\n      <th>date_item_avg_item_cnt_lag_12</th>\n      <th>date_shop_avg_item_cnt_lag_1</th>\n      <th>date_shop_avg_item_cnt_lag_2</th>\n      <th>date_shop_avg_item_cnt_lag_3</th>\n      <th>date_shop_avg_item_cnt_lag_6</th>\n      <th>date_shop_avg_item_cnt_lag_12</th>\n      <th>date_category_avg_item_cnt_lag_1</th>\n      <th>date_shop_category_avg_item_cnt_lag_1</th>\n      <th>date_shop_meta_category_avg_item_cnt_lag_1</th>\n      <th>date_shop_subtype_avg_item_cnt_lag_1</th>\n      <th>date_town_avg_item_cnt_lag_1</th>\n      <th>date_item_town_avg_item_cnt_lag_1</th>\n      <th>date_meta_category_avg_item_cnt_lag_1</th>\n      <th>date_subtype_avg_item_cnt_lag_1</th>\n      <th>month</th>\n      <th>days</th>\n      <th>item_shop_first_sale</th>\n      <th>item_first_sale</th>\n    </tr>\n  </thead>\n  <tbody>\n    <tr>\n      <th>count</th>\n      <td>6.639294e+06</td>\n      <td>6.639294e+06</td>\n      <td>6.639294e+06</td>\n      <td>6639294.0</td>\n      <td>6.639294e+06</td>\n      <td>6.639294e+06</td>\n      <td>6.639294e+06</td>\n      <td>6.639294e+06</td>\n      <td>6639294.0</td>\n      <td>6639294.0</td>\n      <td>6639294.0</td>\n      <td>6639294.0</td>\n      <td>6639294.0</td>\n      <td>6.639294e+06</td>\n      <td>6639294.0</td>\n      <td>6639294.0</td>\n      <td>6639294.0</td>\n      <td>6639294.0</td>\n      <td>6639294.0</td>\n      <td>6.639294e+06</td>\n      <td>6.639294e+06</td>\n      <td>6.639294e+06</td>\n      <td>6.639294e+06</td>\n      <td>6.639294e+06</td>\n      <td>6639294.0</td>\n      <td>6.639294e+06</td>\n      <td>6.639294e+06</td>\n      <td>6.639294e+06</td>\n      <td>6.639294e+06</td>\n      <td>6639294.0</td>\n      <td>6.639294e+06</td>\n      <td>6.639294e+06</td>\n      <td>6.639294e+06</td>\n      <td>6.639294e+06</td>\n      <td>6.639294e+06</td>\n      <td>6.639294e+06</td>\n    </tr>\n    <tr>\n      <th>mean</th>\n      <td>2.199694e+01</td>\n      <td>3.189465e+01</td>\n      <td>1.126362e+04</td>\n      <td>NaN</td>\n      <td>1.512988e+01</td>\n      <td>4.495836e+01</td>\n      <td>1.311957e+01</td>\n      <td>2.724477e+01</td>\n      <td>NaN</td>\n      <td>NaN</td>\n      <td>NaN</td>\n      <td>NaN</td>\n      <td>NaN</td>\n      <td>NaN</td>\n      <td>NaN</td>\n      <td>NaN</td>\n      <td>NaN</td>\n      <td>NaN</td>\n      <td>NaN</td>\n      <td>3.604889e-04</td>\n      <td>3.285408e-04</td>\n      <td>3.151894e-04</td>\n      <td>2.679825e-04</td>\n      <td>1.417398e-04</td>\n      <td>NaN</td>\n      <td>4.184246e-04</td>\n      <td>4.787445e-04</td>\n      <td>4.756451e-04</td>\n      <td>3.604889e-04</td>\n      <td>0.0</td>\n      <td>NaN</td>\n      <td>NaN</td>\n      <td>5.117307e+00</td>\n      <td>3.039279e+01</td>\n      <td>1.225471e+01</td>\n      <td>1.307342e+01</td>\n    </tr>\n    <tr>\n      <th>std</th>\n      <td>6.461452e+00</td>\n      <td>1.724158e+01</td>\n      <td>6.271893e+03</td>\n      <td>0.0</td>\n      <td>7.964897e+00</td>\n      <td>1.573942e+01</td>\n      <td>3.351381e+00</td>\n      <td>1.984909e+01</td>\n      <td>0.0</td>\n      <td>0.0</td>\n      <td>0.0</td>\n      <td>0.0</td>\n      <td>0.0</td>\n      <td>0.000000e+00</td>\n      <td>0.0</td>\n      <td>0.0</td>\n      <td>0.0</td>\n      <td>0.0</td>\n      <td>0.0</td>\n      <td>7.926941e-03</td>\n      <td>7.553101e-03</td>\n      <td>7.389069e-03</td>\n      <td>6.816864e-03</td>\n      <td>4.306793e-03</td>\n      <td>0.0</td>\n      <td>3.616333e-02</td>\n      <td>2.215576e-02</td>\n      <td>4.025269e-02</td>\n      <td>7.926941e-03</td>\n      <td>0.0</td>\n      <td>0.000000e+00</td>\n      <td>0.000000e+00</td>\n      <td>3.388494e+00</td>\n      <td>8.900391e-01</td>\n      <td>8.390482e+00</td>\n      <td>8.447809e+00</td>\n    </tr>\n    <tr>\n      <th>min</th>\n      <td>1.200000e+01</td>\n      <td>2.000000e+00</td>\n      <td>0.000000e+00</td>\n      <td>0.0</td>\n      <td>0.000000e+00</td>\n      <td>0.000000e+00</td>\n      <td>0.000000e+00</td>\n      <td>0.000000e+00</td>\n      <td>0.0</td>\n      <td>0.0</td>\n      <td>0.0</td>\n      <td>0.0</td>\n      <td>0.0</td>\n      <td>0.000000e+00</td>\n      <td>0.0</td>\n      <td>0.0</td>\n      <td>0.0</td>\n      <td>0.0</td>\n      <td>0.0</td>\n      <td>0.000000e+00</td>\n      <td>0.000000e+00</td>\n      <td>0.000000e+00</td>\n      <td>0.000000e+00</td>\n      <td>0.000000e+00</td>\n      <td>0.0</td>\n      <td>0.000000e+00</td>\n      <td>0.000000e+00</td>\n      <td>0.000000e+00</td>\n      <td>0.000000e+00</td>\n      <td>0.0</td>\n      <td>0.000000e+00</td>\n      <td>0.000000e+00</td>\n      <td>0.000000e+00</td>\n      <td>2.800000e+01</td>\n      <td>0.000000e+00</td>\n      <td>0.000000e+00</td>\n    </tr>\n    <tr>\n      <th>25%</th>\n      <td>1.600000e+01</td>\n      <td>1.700000e+01</td>\n      <td>5.680000e+03</td>\n      <td>0.0</td>\n      <td>1.000000e+01</td>\n      <td>3.700000e+01</td>\n      <td>1.300000e+01</td>\n      <td>1.200000e+01</td>\n      <td>0.0</td>\n      <td>0.0</td>\n      <td>0.0</td>\n      <td>0.0</td>\n      <td>0.0</td>\n      <td>0.000000e+00</td>\n      <td>0.0</td>\n      <td>0.0</td>\n      <td>0.0</td>\n      <td>0.0</td>\n      <td>0.0</td>\n      <td>0.000000e+00</td>\n      <td>0.000000e+00</td>\n      <td>0.000000e+00</td>\n      <td>0.000000e+00</td>\n      <td>0.000000e+00</td>\n      <td>0.0</td>\n      <td>0.000000e+00</td>\n      <td>0.000000e+00</td>\n      <td>0.000000e+00</td>\n      <td>0.000000e+00</td>\n      <td>0.0</td>\n      <td>0.000000e+00</td>\n      <td>0.000000e+00</td>\n      <td>2.000000e+00</td>\n      <td>3.000000e+01</td>\n      <td>5.000000e+00</td>\n      <td>6.000000e+00</td>\n    </tr>\n    <tr>\n      <th>50%</th>\n      <td>2.200000e+01</td>\n      <td>3.300000e+01</td>\n      <td>1.137200e+04</td>\n      <td>0.0</td>\n      <td>1.300000e+01</td>\n      <td>4.000000e+01</td>\n      <td>1.300000e+01</td>\n      <td>1.500000e+01</td>\n      <td>0.0</td>\n      <td>0.0</td>\n      <td>0.0</td>\n      <td>0.0</td>\n      <td>0.0</td>\n      <td>0.000000e+00</td>\n      <td>0.0</td>\n      <td>0.0</td>\n      <td>0.0</td>\n      <td>0.0</td>\n      <td>0.0</td>\n      <td>0.000000e+00</td>\n      <td>0.000000e+00</td>\n      <td>0.000000e+00</td>\n      <td>0.000000e+00</td>\n      <td>0.000000e+00</td>\n      <td>0.0</td>\n      <td>0.000000e+00</td>\n      <td>0.000000e+00</td>\n      <td>0.000000e+00</td>\n      <td>0.000000e+00</td>\n      <td>0.0</td>\n      <td>0.000000e+00</td>\n      <td>0.000000e+00</td>\n      <td>5.000000e+00</td>\n      <td>3.100000e+01</td>\n      <td>1.200000e+01</td>\n      <td>1.300000e+01</td>\n    </tr>\n    <tr>\n      <th>75%</th>\n      <td>2.700000e+01</td>\n      <td>4.700000e+01</td>\n      <td>1.653600e+04</td>\n      <td>0.0</td>\n      <td>2.200000e+01</td>\n      <td>5.600000e+01</td>\n      <td>1.500000e+01</td>\n      <td>4.400000e+01</td>\n      <td>0.0</td>\n      <td>0.0</td>\n      <td>0.0</td>\n      <td>0.0</td>\n      <td>0.0</td>\n      <td>0.000000e+00</td>\n      <td>0.0</td>\n      <td>0.0</td>\n      <td>0.0</td>\n      <td>0.0</td>\n      <td>0.0</td>\n      <td>0.000000e+00</td>\n      <td>0.000000e+00</td>\n      <td>0.000000e+00</td>\n      <td>0.000000e+00</td>\n      <td>0.000000e+00</td>\n      <td>0.0</td>\n      <td>0.000000e+00</td>\n      <td>0.000000e+00</td>\n      <td>0.000000e+00</td>\n      <td>0.000000e+00</td>\n      <td>0.0</td>\n      <td>0.000000e+00</td>\n      <td>0.000000e+00</td>\n      <td>8.000000e+00</td>\n      <td>3.100000e+01</td>\n      <td>1.800000e+01</td>\n      <td>1.900000e+01</td>\n    </tr>\n    <tr>\n      <th>max</th>\n      <td>3.400000e+01</td>\n      <td>5.900000e+01</td>\n      <td>2.216900e+04</td>\n      <td>20.0</td>\n      <td>3.000000e+01</td>\n      <td>8.300000e+01</td>\n      <td>2.000000e+01</td>\n      <td>6.400000e+01</td>\n      <td>20.0</td>\n      <td>20.0</td>\n      <td>20.0</td>\n      <td>20.0</td>\n      <td>20.0</td>\n      <td>4.965820e-01</td>\n      <td>20.0</td>\n      <td>20.0</td>\n      <td>20.0</td>\n      <td>20.0</td>\n      <td>20.0</td>\n      <td>2.521973e-01</td>\n      <td>2.521973e-01</td>\n      <td>2.521973e-01</td>\n      <td>2.521973e-01</td>\n      <td>1.966553e-01</td>\n      <td>20.0</td>\n      <td>2.000000e+01</td>\n      <td>2.076172e+00</td>\n      <td>2.000000e+01</td>\n      <td>2.521973e-01</td>\n      <td>0.0</td>\n      <td>1.536719e+01</td>\n      <td>1.935938e+01</td>\n      <td>1.100000e+01</td>\n      <td>3.100000e+01</td>\n      <td>3.400000e+01</td>\n      <td>3.400000e+01</td>\n    </tr>\n  </tbody>\n</table>\n</div>"
          },
          "metadata": {}
        }
      ]
    },
    {
      "metadata": {
        "_uuid": "d59da072065ea0410368e4383eb2bfdd55c5bde7"
      },
      "cell_type": "markdown",
      "source": "# Predictions"
    },
    {
      "metadata": {
        "trusted": true,
        "_uuid": "9a37a0b1fc4658034242f5a300c1090c7e6b0110"
      },
      "cell_type": "code",
      "source": "all_data.to_pickle('final.pkl')\ndel all_data",
      "execution_count": 69,
      "outputs": []
    },
    {
      "metadata": {
        "trusted": true,
        "_uuid": "73667fb70915d8f54ac50fc5c58caf92a406ec0d"
      },
      "cell_type": "code",
      "source": "del items\ndel shops\ndel item_cats\ndel sales\ngc.collect();",
      "execution_count": 70,
      "outputs": []
    },
    {
      "metadata": {
        "trusted": true,
        "_uuid": "9ce84562aea3aec4144596102aeac00bbe0aa370"
      },
      "cell_type": "code",
      "source": "final = pd.read_pickle('final.pkl')\n",
      "execution_count": 71,
      "outputs": []
    },
    {
      "metadata": {
        "trusted": true,
        "_uuid": "bf5626cd6d5a5ae31859786209b61c59f745c374"
      },
      "cell_type": "code",
      "source": "X_train = final[final.date_block_num < 33].drop(['target'], axis=1)\nY_train = final[final.date_block_num < 33]['target']\n\nX_valid = final[final.date_block_num == 33].drop(['target'], axis=1)\nY_valid = final[final.date_block_num == 33]['target']\n\nX_test = final[final.date_block_num == 34].drop(['target'], axis=1)",
      "execution_count": 72,
      "outputs": []
    },
    {
      "metadata": {
        "trusted": true,
        "_uuid": "53f71290259f55b8fa2523c9c36fe3dd9f133381"
      },
      "cell_type": "code",
      "source": "del final\ngc.collect();",
      "execution_count": 74,
      "outputs": []
    },
    {
      "metadata": {
        "trusted": true,
        "_uuid": "c64898fbae1fe1da24095c5838ed2e10913cfbee"
      },
      "cell_type": "code",
      "source": "ts = time.time()\n\nmodel = XGBRegressor(\n    max_depth=8,\n    n_estimators=1000,\n    min_child_weight=300, \n    colsample_bytree=0.8, \n    subsample=0.8, \n    eta=0.3,    \n    seed=42)\n\nmodel.fit(\n    X_train, \n    Y_train, \n    eval_metric=\"rmse\", \n    eval_set=[(X_train, Y_train), (X_valid, Y_valid)], \n    verbose=True, \n    early_stopping_rounds = 10)\n\ntime.time() - ts",
      "execution_count": 75,
      "outputs": [
        {
          "output_type": "stream",
          "text": "[01:51:20] Tree method is automatically selected to be 'approx' for faster speed. To use old behavior (exact greedy algorithm on single machine), set tree_method to 'exact'.\n[0]\tvalidation_0-rmse:1.15312\tvalidation_1-rmse:1.119\nMultiple eval metrics have been passed: 'validation_1-rmse' will be used for early stopping.\n\nWill train until validation_1-rmse hasn't improved in 10 rounds.\n[1]\tvalidation_0-rmse:1.10832\tvalidation_1-rmse:1.08476\n[2]\tvalidation_0-rmse:1.06919\tvalidation_1-rmse:1.05404\n[3]\tvalidation_0-rmse:1.03785\tvalidation_1-rmse:1.0321\n[4]\tvalidation_0-rmse:1.00934\tvalidation_1-rmse:1.01044\n[5]\tvalidation_0-rmse:0.985266\tvalidation_1-rmse:0.99306\n[6]\tvalidation_0-rmse:0.965562\tvalidation_1-rmse:0.979626\n[7]\tvalidation_0-rmse:0.950811\tvalidation_1-rmse:0.968551\n[8]\tvalidation_0-rmse:0.936548\tvalidation_1-rmse:0.958878\n[9]\tvalidation_0-rmse:0.92389\tvalidation_1-rmse:0.950462\n[10]\tvalidation_0-rmse:0.913337\tvalidation_1-rmse:0.943722\n[11]\tvalidation_0-rmse:0.904431\tvalidation_1-rmse:0.938595\n[12]\tvalidation_0-rmse:0.897147\tvalidation_1-rmse:0.934423\n[13]\tvalidation_0-rmse:0.890479\tvalidation_1-rmse:0.930684\n[14]\tvalidation_0-rmse:0.885349\tvalidation_1-rmse:0.928341\n[15]\tvalidation_0-rmse:0.880773\tvalidation_1-rmse:0.926154\n[16]\tvalidation_0-rmse:0.876863\tvalidation_1-rmse:0.923978\n[17]\tvalidation_0-rmse:0.87361\tvalidation_1-rmse:0.9219\n[18]\tvalidation_0-rmse:0.870491\tvalidation_1-rmse:0.920492\n[19]\tvalidation_0-rmse:0.867555\tvalidation_1-rmse:0.91914\n[20]\tvalidation_0-rmse:0.865196\tvalidation_1-rmse:0.918002\n[21]\tvalidation_0-rmse:0.862794\tvalidation_1-rmse:0.916907\n[22]\tvalidation_0-rmse:0.861077\tvalidation_1-rmse:0.916313\n[23]\tvalidation_0-rmse:0.859397\tvalidation_1-rmse:0.916014\n[24]\tvalidation_0-rmse:0.857931\tvalidation_1-rmse:0.915653\n[25]\tvalidation_0-rmse:0.856613\tvalidation_1-rmse:0.914836\n[26]\tvalidation_0-rmse:0.855168\tvalidation_1-rmse:0.914638\n[27]\tvalidation_0-rmse:0.853954\tvalidation_1-rmse:0.914003\n[28]\tvalidation_0-rmse:0.852648\tvalidation_1-rmse:0.91417\n[29]\tvalidation_0-rmse:0.851504\tvalidation_1-rmse:0.913424\n[30]\tvalidation_0-rmse:0.850446\tvalidation_1-rmse:0.912851\n[31]\tvalidation_0-rmse:0.849567\tvalidation_1-rmse:0.912996\n[32]\tvalidation_0-rmse:0.848497\tvalidation_1-rmse:0.912388\n[33]\tvalidation_0-rmse:0.847498\tvalidation_1-rmse:0.912128\n[34]\tvalidation_0-rmse:0.846904\tvalidation_1-rmse:0.911946\n[35]\tvalidation_0-rmse:0.846134\tvalidation_1-rmse:0.911337\n[36]\tvalidation_0-rmse:0.845403\tvalidation_1-rmse:0.91096\n[37]\tvalidation_0-rmse:0.844512\tvalidation_1-rmse:0.911109\n[38]\tvalidation_0-rmse:0.844126\tvalidation_1-rmse:0.911018\n[39]\tvalidation_0-rmse:0.84356\tvalidation_1-rmse:0.911185\n[40]\tvalidation_0-rmse:0.843111\tvalidation_1-rmse:0.911323\n[41]\tvalidation_0-rmse:0.842461\tvalidation_1-rmse:0.910601\n[42]\tvalidation_0-rmse:0.842015\tvalidation_1-rmse:0.910504\n[43]\tvalidation_0-rmse:0.841647\tvalidation_1-rmse:0.91053\n[44]\tvalidation_0-rmse:0.841292\tvalidation_1-rmse:0.910549\n[45]\tvalidation_0-rmse:0.840893\tvalidation_1-rmse:0.910338\n[46]\tvalidation_0-rmse:0.840498\tvalidation_1-rmse:0.910248\n[47]\tvalidation_0-rmse:0.840159\tvalidation_1-rmse:0.910426\n[48]\tvalidation_0-rmse:0.839888\tvalidation_1-rmse:0.910374\n[49]\tvalidation_0-rmse:0.838927\tvalidation_1-rmse:0.909697\n[50]\tvalidation_0-rmse:0.838535\tvalidation_1-rmse:0.909263\n[51]\tvalidation_0-rmse:0.838323\tvalidation_1-rmse:0.909235\n[52]\tvalidation_0-rmse:0.838058\tvalidation_1-rmse:0.909189\n[53]\tvalidation_0-rmse:0.837878\tvalidation_1-rmse:0.909193\n[54]\tvalidation_0-rmse:0.83756\tvalidation_1-rmse:0.90922\n[55]\tvalidation_0-rmse:0.836791\tvalidation_1-rmse:0.907471\n[56]\tvalidation_0-rmse:0.835347\tvalidation_1-rmse:0.906869\n[57]\tvalidation_0-rmse:0.834802\tvalidation_1-rmse:0.906418\n[58]\tvalidation_0-rmse:0.83459\tvalidation_1-rmse:0.906433\n[59]\tvalidation_0-rmse:0.834316\tvalidation_1-rmse:0.906256\n[60]\tvalidation_0-rmse:0.833644\tvalidation_1-rmse:0.906117\n[61]\tvalidation_0-rmse:0.833414\tvalidation_1-rmse:0.906081\n[62]\tvalidation_0-rmse:0.83287\tvalidation_1-rmse:0.908198\n[63]\tvalidation_0-rmse:0.832597\tvalidation_1-rmse:0.907837\n[64]\tvalidation_0-rmse:0.8321\tvalidation_1-rmse:0.907295\n[65]\tvalidation_0-rmse:0.831012\tvalidation_1-rmse:0.907071\n[66]\tvalidation_0-rmse:0.830711\tvalidation_1-rmse:0.906692\n[67]\tvalidation_0-rmse:0.830347\tvalidation_1-rmse:0.906494\n[68]\tvalidation_0-rmse:0.83014\tvalidation_1-rmse:0.906446\n[69]\tvalidation_0-rmse:0.829807\tvalidation_1-rmse:0.906313\n[70]\tvalidation_0-rmse:0.829555\tvalidation_1-rmse:0.905369\n[71]\tvalidation_0-rmse:0.82893\tvalidation_1-rmse:0.905164\n[72]\tvalidation_0-rmse:0.828643\tvalidation_1-rmse:0.905116\n[73]\tvalidation_0-rmse:0.828431\tvalidation_1-rmse:0.904768\n[74]\tvalidation_0-rmse:0.827865\tvalidation_1-rmse:0.904473\n[75]\tvalidation_0-rmse:0.827625\tvalidation_1-rmse:0.904361\n[76]\tvalidation_0-rmse:0.827114\tvalidation_1-rmse:0.903907\n[77]\tvalidation_0-rmse:0.826972\tvalidation_1-rmse:0.903872\n[78]\tvalidation_0-rmse:0.826634\tvalidation_1-rmse:0.903757\n[79]\tvalidation_0-rmse:0.826479\tvalidation_1-rmse:0.903721\n[80]\tvalidation_0-rmse:0.826053\tvalidation_1-rmse:0.903591\n[81]\tvalidation_0-rmse:0.825653\tvalidation_1-rmse:0.903599\n[82]\tvalidation_0-rmse:0.825388\tvalidation_1-rmse:0.903185\n[83]\tvalidation_0-rmse:0.825238\tvalidation_1-rmse:0.903219\n[84]\tvalidation_0-rmse:0.824837\tvalidation_1-rmse:0.903047\n[85]\tvalidation_0-rmse:0.824579\tvalidation_1-rmse:0.903007\n[86]\tvalidation_0-rmse:0.823758\tvalidation_1-rmse:0.903873\n[87]\tvalidation_0-rmse:0.8235\tvalidation_1-rmse:0.903595\n[88]\tvalidation_0-rmse:0.82329\tvalidation_1-rmse:0.903525\n[89]\tvalidation_0-rmse:0.82314\tvalidation_1-rmse:0.903579\n[90]\tvalidation_0-rmse:0.823041\tvalidation_1-rmse:0.903763\n[91]\tvalidation_0-rmse:0.822939\tvalidation_1-rmse:0.903762\n[92]\tvalidation_0-rmse:0.82268\tvalidation_1-rmse:0.903878\n[93]\tvalidation_0-rmse:0.822523\tvalidation_1-rmse:0.903703\n[94]\tvalidation_0-rmse:0.82235\tvalidation_1-rmse:0.903765\n[95]\tvalidation_0-rmse:0.822167\tvalidation_1-rmse:0.903837\nStopping. Best iteration:\n[85]\tvalidation_0-rmse:0.824579\tvalidation_1-rmse:0.903007\n\n",
          "name": "stdout"
        },
        {
          "output_type": "execute_result",
          "execution_count": 75,
          "data": {
            "text/plain": "3136.725039243698"
          },
          "metadata": {}
        }
      ]
    },
    {
      "metadata": {
        "trusted": true,
        "_uuid": "b443fa6c5ca9a5feb47920827204fd63ce1c690a"
      },
      "cell_type": "code",
      "source": "Y_pred = model.predict(X_valid).clip(0, 20)\nY_test = model.predict(X_test).clip(0, 20)\nsubmission = pd.DataFrame({\"ID\": test.index,\"item_cnt_month\": Y_test})\nsubmission.to_csv('final_submission.csv', index=False)\n\n",
      "execution_count": 76,
      "outputs": []
    },
    {
      "metadata": {
        "trusted": true,
        "_uuid": "2393ca3f44a9e23f482a9f4380ad0323c6b7c41e"
      },
      "cell_type": "code",
      "source": "",
      "execution_count": null,
      "outputs": []
    },
    {
      "metadata": {
        "trusted": true,
        "_uuid": "badfe36e7b51e3a8b6e239069051c58426fcc0e9"
      },
      "cell_type": "code",
      "source": "",
      "execution_count": null,
      "outputs": []
    }
  ],
  "metadata": {
    "kernelspec": {
      "display_name": "Python 3",
      "language": "python",
      "name": "python3"
    },
    "language_info": {
      "name": "python",
      "version": "3.6.6",
      "mimetype": "text/x-python",
      "codemirror_mode": {
        "name": "ipython",
        "version": 3
      },
      "pygments_lexer": "ipython3",
      "nbconvert_exporter": "python",
      "file_extension": ".py"
    }
  },
  "nbformat": 4,
  "nbformat_minor": 1
}